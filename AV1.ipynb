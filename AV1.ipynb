{
 "cells": [
  {
   "cell_type": "code",
   "execution_count": 2,
   "metadata": {},
   "outputs": [],
   "source": [
    "import pandas as pd\n",
    "import seaborn as srn\n",
    "import statistics as sts"
   ]
  },
  {
   "cell_type": "code",
   "execution_count": 3,
   "metadata": {},
   "outputs": [],
   "source": [
    "#Importando dados CSV\n",
    "alunos = pd.read_csv(\"alunos.csv\", sep=\";\")\n",
    "dengue = pd.read_csv(\"dengue.csv\", sep=\";\")\n",
    "onibus = pd.read_csv(\"onibus.csv\", sep=\";\")\n"
   ]
  },
  {
   "cell_type": "code",
   "execution_count": 5,
   "metadata": {},
   "outputs": [
    {
     "data": {
      "text/html": [
       "<div>\n",
       "<style scoped>\n",
       "    .dataframe tbody tr th:only-of-type {\n",
       "        vertical-align: middle;\n",
       "    }\n",
       "\n",
       "    .dataframe tbody tr th {\n",
       "        vertical-align: top;\n",
       "    }\n",
       "\n",
       "    .dataframe thead th {\n",
       "        text-align: right;\n",
       "    }\n",
       "</style>\n",
       "<table border=\"1\" class=\"dataframe\">\n",
       "  <thead>\n",
       "    <tr style=\"text-align: right;\">\n",
       "      <th></th>\n",
       "      <th>ID</th>\n",
       "      <th>Nome</th>\n",
       "      <th>Nome da Mae</th>\n",
       "      <th>Nome do Pai</th>\n",
       "      <th>Sexo</th>\n",
       "      <th>Data de Nascimento</th>\n",
       "    </tr>\n",
       "  </thead>\n",
       "  <tbody>\n",
       "    <tr>\n",
       "      <th>0</th>\n",
       "      <td>0</td>\n",
       "      <td>FRANCISCA SALES LIMA</td>\n",
       "      <td>ELISEU CASTRO LIMA</td>\n",
       "      <td>SANDRA SALES CHAGAS</td>\n",
       "      <td>f</td>\n",
       "      <td>10-7-1997 00:00:00</td>\n",
       "    </tr>\n",
       "    <tr>\n",
       "      <th>1</th>\n",
       "      <td>1</td>\n",
       "      <td>DARIO MELO CELISMAN</td>\n",
       "      <td>JOAO SILVA CELISMAN</td>\n",
       "      <td>MARIA MELO MARLETE</td>\n",
       "      <td>m</td>\n",
       "      <td>24-3-2022 00:00:00</td>\n",
       "    </tr>\n",
       "    <tr>\n",
       "      <th>2</th>\n",
       "      <td>2</td>\n",
       "      <td>ANTONIA SILVA BARBOSA</td>\n",
       "      <td>RAIMUNDO</td>\n",
       "      <td>MARIA SILVA GIRAO</td>\n",
       "      <td>f</td>\n",
       "      <td>68-9-2009 00:00:00</td>\n",
       "    </tr>\n",
       "    <tr>\n",
       "      <th>3</th>\n",
       "      <td>3</td>\n",
       "      <td>SAMARA SANTOS MONTEIRO</td>\n",
       "      <td>JOSE</td>\n",
       "      <td>MARIA SANTOS LIDUINA</td>\n",
       "      <td>f</td>\n",
       "      <td>25-4-1999 00:00:00</td>\n",
       "    </tr>\n",
       "    <tr>\n",
       "      <th>4</th>\n",
       "      <td>4</td>\n",
       "      <td>JESSICA</td>\n",
       "      <td>FRANCISCO ALMEIDA SOUSA</td>\n",
       "      <td>RAIMUNDA SOCORRO HERMINIO</td>\n",
       "      <td>f</td>\n",
       "      <td>18-11-1998 00:00:00</td>\n",
       "    </tr>\n",
       "  </tbody>\n",
       "</table>\n",
       "</div>"
      ],
      "text/plain": [
       "   ID                    Nome              Nome da Mae  \\\n",
       "0   0    FRANCISCA SALES LIMA       ELISEU CASTRO LIMA   \n",
       "1   1     DARIO MELO CELISMAN      JOAO SILVA CELISMAN   \n",
       "2   2   ANTONIA SILVA BARBOSA                 RAIMUNDO   \n",
       "3   3  SAMARA SANTOS MONTEIRO                     JOSE   \n",
       "4   4                 JESSICA  FRANCISCO ALMEIDA SOUSA   \n",
       "\n",
       "                 Nome do Pai Sexo   Data de Nascimento  \n",
       "0        SANDRA SALES CHAGAS    f   10-7-1997 00:00:00  \n",
       "1         MARIA MELO MARLETE    m   24-3-2022 00:00:00  \n",
       "2          MARIA SILVA GIRAO    f   68-9-2009 00:00:00  \n",
       "3       MARIA SANTOS LIDUINA    f   25-4-1999 00:00:00  \n",
       "4  RAIMUNDA SOCORRO HERMINIO    f  18-11-1998 00:00:00  "
      ]
     },
     "execution_count": 5,
     "metadata": {},
     "output_type": "execute_result"
    }
   ],
   "source": [
    "#Mostrando dados Alunos\n",
    "alunos.head()"
   ]
  },
  {
   "cell_type": "code",
   "execution_count": 6,
   "metadata": {},
   "outputs": [
    {
     "data": {
      "text/html": [
       "<div>\n",
       "<style scoped>\n",
       "    .dataframe tbody tr th:only-of-type {\n",
       "        vertical-align: middle;\n",
       "    }\n",
       "\n",
       "    .dataframe tbody tr th {\n",
       "        vertical-align: top;\n",
       "    }\n",
       "\n",
       "    .dataframe thead th {\n",
       "        text-align: right;\n",
       "    }\n",
       "</style>\n",
       "<table border=\"1\" class=\"dataframe\">\n",
       "  <thead>\n",
       "    <tr style=\"text-align: right;\">\n",
       "      <th></th>\n",
       "      <th>ID</th>\n",
       "      <th>Nome</th>\n",
       "      <th>Nome da Mae</th>\n",
       "      <th>Nome do Pai</th>\n",
       "      <th>Sexo</th>\n",
       "      <th>Data de Nascimento</th>\n",
       "      <th>Data da Dengue</th>\n",
       "    </tr>\n",
       "  </thead>\n",
       "  <tbody>\n",
       "    <tr>\n",
       "      <th>0</th>\n",
       "      <td>0</td>\n",
       "      <td>MARCIA VASCONCELOS SILVA</td>\n",
       "      <td>JEFFERSON FERREIRA SILVA</td>\n",
       "      <td>MARIA VASCONCELOS LEITE</td>\n",
       "      <td>F</td>\n",
       "      <td>0/2/8976</td>\n",
       "      <td>30/8/1687</td>\n",
       "    </tr>\n",
       "    <tr>\n",
       "      <th>1</th>\n",
       "      <td>1</td>\n",
       "      <td>WESLEY SANTOS FILHO</td>\n",
       "      <td>JOAO SILVA FILHO</td>\n",
       "      <td>MARILIA SANTOS MACEDO</td>\n",
       "      <td>M</td>\n",
       "      <td>1/6/1288</td>\n",
       "      <td>30/1/1971</td>\n",
       "    </tr>\n",
       "    <tr>\n",
       "      <th>2</th>\n",
       "      <td>2</td>\n",
       "      <td>EVELINE SILVA MIGUEL</td>\n",
       "      <td>FRANCISCO MIGUEL SILVA</td>\n",
       "      <td>MARIA SITVA SIOVP</td>\n",
       "      <td>F</td>\n",
       "      <td>4/10/2002</td>\n",
       "      <td>25/9/2016</td>\n",
       "    </tr>\n",
       "    <tr>\n",
       "      <th>3</th>\n",
       "      <td>3</td>\n",
       "      <td>GISELE</td>\n",
       "      <td>IVONALDO FREITAS ALVES</td>\n",
       "      <td>CRISTIANE SANTOS SANTOS</td>\n",
       "      <td>F</td>\n",
       "      <td>13/6/1907</td>\n",
       "      <td>5/8/2011</td>\n",
       "    </tr>\n",
       "    <tr>\n",
       "      <th>4</th>\n",
       "      <td>4</td>\n",
       "      <td>GISELKE COELHO OLIVEIRA</td>\n",
       "      <td>GUTEMBERGUE SANTOS OLIVEIRA</td>\n",
       "      <td>MARIA C A</td>\n",
       "      <td>F</td>\n",
       "      <td>18/3/8961</td>\n",
       "      <td>9/10/2079</td>\n",
       "    </tr>\n",
       "  </tbody>\n",
       "</table>\n",
       "</div>"
      ],
      "text/plain": [
       "   ID                      Nome                  Nome da Mae  \\\n",
       "0   0  MARCIA VASCONCELOS SILVA     JEFFERSON FERREIRA SILVA   \n",
       "1   1       WESLEY SANTOS FILHO             JOAO SILVA FILHO   \n",
       "2   2      EVELINE SILVA MIGUEL       FRANCISCO MIGUEL SILVA   \n",
       "3   3                    GISELE       IVONALDO FREITAS ALVES   \n",
       "4   4   GISELKE COELHO OLIVEIRA  GUTEMBERGUE SANTOS OLIVEIRA   \n",
       "\n",
       "               Nome do Pai Sexo Data de Nascimento Data da Dengue  \n",
       "0  MARIA VASCONCELOS LEITE    F           0/2/8976      30/8/1687  \n",
       "1    MARILIA SANTOS MACEDO    M           1/6/1288      30/1/1971  \n",
       "2        MARIA SITVA SIOVP    F          4/10/2002      25/9/2016  \n",
       "3  CRISTIANE SANTOS SANTOS    F          13/6/1907       5/8/2011  \n",
       "4                MARIA C A    F          18/3/8961      9/10/2079  "
      ]
     },
     "execution_count": 6,
     "metadata": {},
     "output_type": "execute_result"
    }
   ],
   "source": [
    "#Mostrando dados Dengue\n",
    "dengue.head()"
   ]
  },
  {
   "cell_type": "code",
   "execution_count": 13,
   "metadata": {},
   "outputs": [
    {
     "data": {
      "text/html": [
       "<div>\n",
       "<style scoped>\n",
       "    .dataframe tbody tr th:only-of-type {\n",
       "        vertical-align: middle;\n",
       "    }\n",
       "\n",
       "    .dataframe tbody tr th {\n",
       "        vertical-align: top;\n",
       "    }\n",
       "\n",
       "    .dataframe thead th {\n",
       "        text-align: right;\n",
       "    }\n",
       "</style>\n",
       "<table border=\"1\" class=\"dataframe\">\n",
       "  <thead>\n",
       "    <tr style=\"text-align: right;\">\n",
       "      <th></th>\n",
       "      <th>ID</th>\n",
       "      <th>Nome</th>\n",
       "      <th>Nome da Mae</th>\n",
       "      <th>Nome do Pai</th>\n",
       "      <th>Sexo</th>\n",
       "      <th>Data de Nascimento</th>\n",
       "      <th>Onibus</th>\n",
       "    </tr>\n",
       "  </thead>\n",
       "  <tbody>\n",
       "    <tr>\n",
       "      <th>0</th>\n",
       "      <td>0</td>\n",
       "      <td>LUCAS</td>\n",
       "      <td>EDIBERTO FARIAS MATOS</td>\n",
       "      <td>MFRIA BARAOSFEDREUFA</td>\n",
       "      <td>H</td>\n",
       "      <td>271988</td>\n",
       "      <td>893, 529, 744, 718, 709</td>\n",
       "    </tr>\n",
       "    <tr>\n",
       "      <th>1</th>\n",
       "      <td>1</td>\n",
       "      <td>PIULO Q F</td>\n",
       "      <td>ANTONIO</td>\n",
       "      <td>MARIA QUEIROZ SANTOS</td>\n",
       "      <td>H</td>\n",
       "      <td>161956</td>\n",
       "      <td>912, 223, 689, 333, 754, 537, 779, 203, 569</td>\n",
       "    </tr>\n",
       "    <tr>\n",
       "      <th>2</th>\n",
       "      <td>2</td>\n",
       "      <td>FRANCISCO S S</td>\n",
       "      <td>JEOVA OLIVEIRA SILVA</td>\n",
       "      <td>VERANEIDE SANTOS SILVA</td>\n",
       "      <td>H</td>\n",
       "      <td>2471938</td>\n",
       "      <td>397, 213, 767</td>\n",
       "    </tr>\n",
       "    <tr>\n",
       "      <th>3</th>\n",
       "      <td>3</td>\n",
       "      <td>GERANIO SILVA SOUZA</td>\n",
       "      <td>GONZAGA</td>\n",
       "      <td>ELIZABETH SILVA VALE</td>\n",
       "      <td>H</td>\n",
       "      <td>1101993</td>\n",
       "      <td>574, 583, 726, 184</td>\n",
       "    </tr>\n",
       "    <tr>\n",
       "      <th>4</th>\n",
       "      <td>4</td>\n",
       "      <td>VALBERLANIA COSTA FREITAS</td>\n",
       "      <td>OSMAR NASCIMENTO FREITAS</td>\n",
       "      <td>ANA COSTA NASCIMENTO</td>\n",
       "      <td>M</td>\n",
       "      <td>101067</td>\n",
       "      <td>010, 152</td>\n",
       "    </tr>\n",
       "  </tbody>\n",
       "</table>\n",
       "</div>"
      ],
      "text/plain": [
       "   ID                       Nome               Nome da Mae  \\\n",
       "0   0                      LUCAS     EDIBERTO FARIAS MATOS   \n",
       "1   1                  PIULO Q F                   ANTONIO   \n",
       "2   2              FRANCISCO S S      JEOVA OLIVEIRA SILVA   \n",
       "3   3        GERANIO SILVA SOUZA                   GONZAGA   \n",
       "4   4  VALBERLANIA COSTA FREITAS  OSMAR NASCIMENTO FREITAS   \n",
       "\n",
       "              Nome do Pai Sexo  Data de Nascimento  \\\n",
       "0    MFRIA BARAOSFEDREUFA    H              271988   \n",
       "1    MARIA QUEIROZ SANTOS    H              161956   \n",
       "2  VERANEIDE SANTOS SILVA    H             2471938   \n",
       "3    ELIZABETH SILVA VALE    H             1101993   \n",
       "4    ANA COSTA NASCIMENTO    M              101067   \n",
       "\n",
       "                                        Onibus  \n",
       "0                      893, 529, 744, 718, 709  \n",
       "1  912, 223, 689, 333, 754, 537, 779, 203, 569  \n",
       "2                                397, 213, 767  \n",
       "3                           574, 583, 726, 184  \n",
       "4                                     010, 152  "
      ]
     },
     "execution_count": 13,
     "metadata": {},
     "output_type": "execute_result"
    }
   ],
   "source": [
    "#Mostrando dados Onibus\n",
    "onibus.head()"
   ]
  },
  {
   "cell_type": "code",
   "execution_count": 14,
   "metadata": {},
   "outputs": [
    {
     "data": {
      "text/plain": [
       "(289, 6)"
      ]
     },
     "execution_count": 14,
     "metadata": {},
     "output_type": "execute_result"
    }
   ],
   "source": [
    "#Tamanho dados Alunos\n",
    "alunos.shape"
   ]
  },
  {
   "cell_type": "code",
   "execution_count": 15,
   "metadata": {},
   "outputs": [
    {
     "data": {
      "text/plain": [
       "(212, 7)"
      ]
     },
     "execution_count": 15,
     "metadata": {},
     "output_type": "execute_result"
    }
   ],
   "source": [
    "#Tamanho dados Dengue\n",
    "dengue.shape"
   ]
  },
  {
   "cell_type": "code",
   "execution_count": 16,
   "metadata": {},
   "outputs": [
    {
     "data": {
      "text/plain": [
       "(278, 7)"
      ]
     },
     "execution_count": 16,
     "metadata": {},
     "output_type": "execute_result"
    }
   ],
   "source": [
    "#Tamanho dados Onibus\n",
    "onibus.shape"
   ]
  },
  {
   "cell_type": "code",
   "execution_count": 25,
   "metadata": {},
   "outputs": [
    {
     "data": {
      "text/plain": [
       "Nome\n",
       "ADILSON SANTOS WELLINGTON    1\n",
       "ADRIANA G F                  1\n",
       "ADRIEL FRANCA LOPES          1\n",
       "ADRIELLE MARIA SANTOS        1\n",
       "AHEREZA L S                  1\n",
       "                            ..\n",
       "WERMESON GORETE OLIVEIRA     1\n",
       "WEVERLANNE AQUINO BOMFIM     1\n",
       "WUKA NASOIMENTP AANELHA      1\n",
       "YEGOR ALVES NETO             1\n",
       "YUDI SILVA CUNHA             1\n",
       "Length: 281, dtype: int64"
      ]
     },
     "execution_count": 25,
     "metadata": {},
     "output_type": "execute_result"
    }
   ],
   "source": [
    "#Analisando colunas dos dados de Alunos\n",
    "#Nome\n",
    "agrupado = alunos.groupby(['Nome']).size()\n",
    "agrupado\n",
    "#281 de 289 valores repetidos ou vazios"
   ]
  },
  {
   "cell_type": "code",
   "execution_count": 26,
   "metadata": {},
   "outputs": [
    {
     "data": {
      "text/plain": [
       "Sexo\n",
       "f    152\n",
       "m    137\n",
       "dtype: int64"
      ]
     },
     "execution_count": 26,
     "metadata": {},
     "output_type": "execute_result"
    }
   ],
   "source": [
    "agrupado = alunos.groupby(['Sexo']).size()\n",
    "agrupado\n",
    "#nenhuma divergencia observada"
   ]
  },
  {
   "cell_type": "code",
   "execution_count": 27,
   "metadata": {},
   "outputs": [
    {
     "data": {
      "text/plain": [
       "Nome da Mae\n",
       "ABDORAL                        1\n",
       "ABELARDO ALMEIDA SOUSA         1\n",
       "ABERLADO MONTEIRO GUIMARAES    1\n",
       "AEDRO RIBEIRO SOBRINHO         1\n",
       "ALFREDO MOURA FERREIRA         1\n",
       "                              ..\n",
       "VAULO                          1\n",
       "VENANCIO SILVA AMARAL          1\n",
       "VICENTE LIMA CARVALHO          1\n",
       "WCLLIIGSOJ ALVEU BOFFIM        1\n",
       "ZUGUIDO C M                    1\n",
       "Length: 264, dtype: int64"
      ]
     },
     "execution_count": 27,
     "metadata": {},
     "output_type": "execute_result"
    }
   ],
   "source": [
    "agrupado = alunos.groupby(['Nome da Mae']).size()\n",
    "agrupado\n",
    "#264 de 289 valores repetidos ou vazios"
   ]
  },
  {
   "cell_type": "code",
   "execution_count": 28,
   "metadata": {},
   "outputs": [
    {
     "data": {
      "text/plain": [
       "Nome do Pai\n",
       "ADRIANA C S                  1\n",
       "ALDEVAM EVENICE SAMPAIO      1\n",
       "ALESNIAAFATIMA SOHZA         1\n",
       "ALEXYANDRA IVOPETE COSTJ     1\n",
       "ALEZABETA                    1\n",
       "                            ..\n",
       "VANDA ABREU ARAUJO           1\n",
       "VANIA                        1\n",
       "VIVIANE CORDEIRO FEITOSA     1\n",
       "WRANCTMUR OLIVEIRA SANTOS    1\n",
       "YARPA N R                    1\n",
       "Length: 266, dtype: int64"
      ]
     },
     "execution_count": 28,
     "metadata": {},
     "output_type": "execute_result"
    }
   ],
   "source": [
    "agrupado = alunos.groupby(['Nome do Pai']).size()\n",
    "agrupado\n",
    "#266 de 289 valores repetidos ou vazios"
   ]
  },
  {
   "cell_type": "code",
   "execution_count": 29,
   "metadata": {},
   "outputs": [
    {
     "data": {
      "text/plain": [
       "ID                    0\n",
       "Nome                  0\n",
       "Nome da Mae           0\n",
       "Nome do Pai           0\n",
       "Sexo                  0\n",
       "Data de Nascimento    0\n",
       "dtype: int64"
      ]
     },
     "execution_count": 29,
     "metadata": {},
     "output_type": "execute_result"
    }
   ],
   "source": [
    "#Contamos valores NAN\n",
    "alunos.isnull().sum()"
   ]
  },
  {
   "cell_type": "code",
   "execution_count": 33,
   "metadata": {},
   "outputs": [
    {
     "data": {
      "text/html": [
       "<div>\n",
       "<style scoped>\n",
       "    .dataframe tbody tr th:only-of-type {\n",
       "        vertical-align: middle;\n",
       "    }\n",
       "\n",
       "    .dataframe tbody tr th {\n",
       "        vertical-align: top;\n",
       "    }\n",
       "\n",
       "    .dataframe thead th {\n",
       "        text-align: right;\n",
       "    }\n",
       "</style>\n",
       "<table border=\"1\" class=\"dataframe\">\n",
       "  <thead>\n",
       "    <tr style=\"text-align: right;\">\n",
       "      <th></th>\n",
       "      <th>ID</th>\n",
       "      <th>Nome</th>\n",
       "      <th>Nome da Mae</th>\n",
       "      <th>Nome do Pai</th>\n",
       "      <th>Sexo</th>\n",
       "      <th>Data de Nascimento</th>\n",
       "    </tr>\n",
       "  </thead>\n",
       "  <tbody>\n",
       "    <tr>\n",
       "      <th>9</th>\n",
       "      <td>9</td>\n",
       "      <td>MARIA</td>\n",
       "      <td>RPIMUNDO VIANA ALVES</td>\n",
       "      <td>MARGARIDA MARINETE BEZERRA</td>\n",
       "      <td>f</td>\n",
       "      <td>2-7-2044 00:00:00</td>\n",
       "    </tr>\n",
       "    <tr>\n",
       "      <th>47</th>\n",
       "      <td>47</td>\n",
       "      <td>MARIA</td>\n",
       "      <td>MANOEL NONATO AVELINO</td>\n",
       "      <td>MARIA C P</td>\n",
       "      <td>f</td>\n",
       "      <td>27-4-0057 00:00:00</td>\n",
       "    </tr>\n",
       "    <tr>\n",
       "      <th>83</th>\n",
       "      <td>83</td>\n",
       "      <td>MARIA</td>\n",
       "      <td>RAIMUNOO</td>\n",
       "      <td>ELIANE PEREIRA MARIA</td>\n",
       "      <td>f</td>\n",
       "      <td>9-6-1998 00:00:00</td>\n",
       "    </tr>\n",
       "    <tr>\n",
       "      <th>86</th>\n",
       "      <td>86</td>\n",
       "      <td>MARIA</td>\n",
       "      <td>FRANCISCO PEREIRA LIMA</td>\n",
       "      <td>ANTONIA CLEIDE SANTOS</td>\n",
       "      <td>f</td>\n",
       "      <td>9-5-1394 00:00:00</td>\n",
       "    </tr>\n",
       "    <tr>\n",
       "      <th>174</th>\n",
       "      <td>174</td>\n",
       "      <td>MARIA</td>\n",
       "      <td>MANOEL OLIVEIRA SILVA</td>\n",
       "      <td>MARIA CARMO SILVA</td>\n",
       "      <td>f</td>\n",
       "      <td>27-8-5087 00:00:00</td>\n",
       "    </tr>\n",
       "    <tr>\n",
       "      <th>186</th>\n",
       "      <td>186</td>\n",
       "      <td>FRANCISCO</td>\n",
       "      <td>FRANCISCO F S</td>\n",
       "      <td>FRANCISCA SILVA PRAZERES</td>\n",
       "      <td>m</td>\n",
       "      <td>8-10-2204 00:00:00</td>\n",
       "    </tr>\n",
       "    <tr>\n",
       "      <th>226</th>\n",
       "      <td>226</td>\n",
       "      <td>MARIA</td>\n",
       "      <td>PEDRO</td>\n",
       "      <td>DAMIANY</td>\n",
       "      <td>f</td>\n",
       "      <td>20-81-2012 00:00:00</td>\n",
       "    </tr>\n",
       "    <tr>\n",
       "      <th>239</th>\n",
       "      <td>239</td>\n",
       "      <td>MARIA</td>\n",
       "      <td>FRANCISCO S T</td>\n",
       "      <td>MARIA PEREIRA CAVALCANTE</td>\n",
       "      <td>f</td>\n",
       "      <td>42-3-1697 00:00:00</td>\n",
       "    </tr>\n",
       "    <tr>\n",
       "      <th>248</th>\n",
       "      <td>248</td>\n",
       "      <td>MARIA</td>\n",
       "      <td>JULIO S S</td>\n",
       "      <td>FABIOLA PAULA PEREIRA</td>\n",
       "      <td>f</td>\n",
       "      <td>19-8-1991 00:00:00</td>\n",
       "    </tr>\n",
       "    <tr>\n",
       "      <th>281</th>\n",
       "      <td>281</td>\n",
       "      <td>FRANCISCO</td>\n",
       "      <td>EUGENIO ERIVAN ALVES</td>\n",
       "      <td>ELIZONETE JOSE PEREIRA</td>\n",
       "      <td>m</td>\n",
       "      <td>64-4-2012 00:00:00</td>\n",
       "    </tr>\n",
       "  </tbody>\n",
       "</table>\n",
       "</div>"
      ],
      "text/plain": [
       "      ID       Nome             Nome da Mae                 Nome do Pai Sexo  \\\n",
       "9      9      MARIA    RPIMUNDO VIANA ALVES  MARGARIDA MARINETE BEZERRA    f   \n",
       "47    47      MARIA   MANOEL NONATO AVELINO                   MARIA C P    f   \n",
       "83    83      MARIA                RAIMUNOO        ELIANE PEREIRA MARIA    f   \n",
       "86    86      MARIA  FRANCISCO PEREIRA LIMA       ANTONIA CLEIDE SANTOS    f   \n",
       "174  174      MARIA   MANOEL OLIVEIRA SILVA           MARIA CARMO SILVA    f   \n",
       "186  186  FRANCISCO           FRANCISCO F S    FRANCISCA SILVA PRAZERES    m   \n",
       "226  226      MARIA                   PEDRO                     DAMIANY    f   \n",
       "239  239      MARIA           FRANCISCO S T    MARIA PEREIRA CAVALCANTE    f   \n",
       "248  248      MARIA               JULIO S S       FABIOLA PAULA PEREIRA    f   \n",
       "281  281  FRANCISCO    EUGENIO ERIVAN ALVES      ELIZONETE JOSE PEREIRA    m   \n",
       "\n",
       "      Data de Nascimento  \n",
       "9      2-7-2044 00:00:00  \n",
       "47    27-4-0057 00:00:00  \n",
       "83     9-6-1998 00:00:00  \n",
       "86     9-5-1394 00:00:00  \n",
       "174   27-8-5087 00:00:00  \n",
       "186   8-10-2204 00:00:00  \n",
       "226  20-81-2012 00:00:00  \n",
       "239   42-3-1697 00:00:00  \n",
       "248   19-8-1991 00:00:00  \n",
       "281   64-4-2012 00:00:00  "
      ]
     },
     "execution_count": 33,
     "metadata": {},
     "output_type": "execute_result"
    }
   ],
   "source": [
    "alunos[alunos.duplicated(['Nome'], keep=False)]\n",
    "#Aparentemente mesmo com nomes repetidos os nomes dos pais não se repetem, ou seja, são pessoas diferentes\n",
    "#Também observamos que o nome da coluna \"Nome de Mae\" e \"Nome do Pai\" estão invertidas"
   ]
  },
  {
   "cell_type": "code",
   "execution_count": 35,
   "metadata": {},
   "outputs": [
    {
     "data": {
      "text/html": [
       "<div>\n",
       "<style scoped>\n",
       "    .dataframe tbody tr th:only-of-type {\n",
       "        vertical-align: middle;\n",
       "    }\n",
       "\n",
       "    .dataframe tbody tr th {\n",
       "        vertical-align: top;\n",
       "    }\n",
       "\n",
       "    .dataframe thead th {\n",
       "        text-align: right;\n",
       "    }\n",
       "</style>\n",
       "<table border=\"1\" class=\"dataframe\">\n",
       "  <thead>\n",
       "    <tr style=\"text-align: right;\">\n",
       "      <th></th>\n",
       "      <th>ID</th>\n",
       "      <th>Nome</th>\n",
       "      <th>Nome do Pai</th>\n",
       "      <th>Nome da Mae</th>\n",
       "      <th>Sexo</th>\n",
       "      <th>Data de Nascimento</th>\n",
       "    </tr>\n",
       "  </thead>\n",
       "  <tbody>\n",
       "    <tr>\n",
       "      <th>0</th>\n",
       "      <td>0</td>\n",
       "      <td>FRANCISCA SALES LIMA</td>\n",
       "      <td>ELISEU CASTRO LIMA</td>\n",
       "      <td>SANDRA SALES CHAGAS</td>\n",
       "      <td>f</td>\n",
       "      <td>10-7-1997 00:00:00</td>\n",
       "    </tr>\n",
       "    <tr>\n",
       "      <th>1</th>\n",
       "      <td>1</td>\n",
       "      <td>DARIO MELO CELISMAN</td>\n",
       "      <td>JOAO SILVA CELISMAN</td>\n",
       "      <td>MARIA MELO MARLETE</td>\n",
       "      <td>m</td>\n",
       "      <td>24-3-2022 00:00:00</td>\n",
       "    </tr>\n",
       "    <tr>\n",
       "      <th>2</th>\n",
       "      <td>2</td>\n",
       "      <td>ANTONIA SILVA BARBOSA</td>\n",
       "      <td>RAIMUNDO</td>\n",
       "      <td>MARIA SILVA GIRAO</td>\n",
       "      <td>f</td>\n",
       "      <td>68-9-2009 00:00:00</td>\n",
       "    </tr>\n",
       "    <tr>\n",
       "      <th>3</th>\n",
       "      <td>3</td>\n",
       "      <td>SAMARA SANTOS MONTEIRO</td>\n",
       "      <td>JOSE</td>\n",
       "      <td>MARIA SANTOS LIDUINA</td>\n",
       "      <td>f</td>\n",
       "      <td>25-4-1999 00:00:00</td>\n",
       "    </tr>\n",
       "    <tr>\n",
       "      <th>4</th>\n",
       "      <td>4</td>\n",
       "      <td>JESSICA</td>\n",
       "      <td>FRANCISCO ALMEIDA SOUSA</td>\n",
       "      <td>RAIMUNDA SOCORRO HERMINIO</td>\n",
       "      <td>f</td>\n",
       "      <td>18-11-1998 00:00:00</td>\n",
       "    </tr>\n",
       "  </tbody>\n",
       "</table>\n",
       "</div>"
      ],
      "text/plain": [
       "   ID                    Nome              Nome do Pai  \\\n",
       "0   0    FRANCISCA SALES LIMA       ELISEU CASTRO LIMA   \n",
       "1   1     DARIO MELO CELISMAN      JOAO SILVA CELISMAN   \n",
       "2   2   ANTONIA SILVA BARBOSA                 RAIMUNDO   \n",
       "3   3  SAMARA SANTOS MONTEIRO                     JOSE   \n",
       "4   4                 JESSICA  FRANCISCO ALMEIDA SOUSA   \n",
       "\n",
       "                 Nome da Mae Sexo   Data de Nascimento  \n",
       "0        SANDRA SALES CHAGAS    f   10-7-1997 00:00:00  \n",
       "1         MARIA MELO MARLETE    m   24-3-2022 00:00:00  \n",
       "2          MARIA SILVA GIRAO    f   68-9-2009 00:00:00  \n",
       "3       MARIA SANTOS LIDUINA    f   25-4-1999 00:00:00  \n",
       "4  RAIMUNDA SOCORRO HERMINIO    f  18-11-1998 00:00:00  "
      ]
     },
     "execution_count": 35,
     "metadata": {},
     "output_type": "execute_result"
    }
   ],
   "source": [
    "#Corrigindo nome de coluna\n",
    "alunos.columns = ['ID','Nome','Nome do Pai','Nome da Mae','Sexo','Data de Nascimento']\n",
    "#verificando\n",
    "alunos.head()"
   ]
  },
  {
   "cell_type": "code",
   "execution_count": 43,
   "metadata": {},
   "outputs": [
    {
     "data": {
      "text/plain": [
       "Nome\n",
       "ADILSON S W               1\n",
       "ADRIANA ANTONIA KLEBER    1\n",
       "ADRIELLE MARIA SANTOS     1\n",
       "ALEXANDRE                 1\n",
       "ALINE ARAUJO GILBERTO     1\n",
       "                         ..\n",
       "WILLIAN                   1\n",
       "WLADEYLSON COSTA JOSE     1\n",
       "YLDI OFLVACUNWA           1\n",
       "YRUNO                     1\n",
       "YURI MARIA SILVA          1\n",
       "Length: 207, dtype: int64"
      ]
     },
     "execution_count": 43,
     "metadata": {},
     "output_type": "execute_result"
    }
   ],
   "source": [
    "#Analisando colunas dos dados de Dengue\n",
    "agrupado = dengue.groupby(['Nome']).size()\n",
    "agrupado\n",
    "#207 de 212 valores repetidos ou vazios"
   ]
  },
  {
   "cell_type": "code",
   "execution_count": 44,
   "metadata": {},
   "outputs": [
    {
     "data": {
      "text/plain": [
       "Nome da Mae\n",
       "ABELARDO ALMEIDA SOUSA         1\n",
       "ADALBERTO B L                  1\n",
       "ADRIANO F S                    1\n",
       "ALEX NASCIMENTO ARAUJO         1\n",
       "ALLESSON R S                   1\n",
       "                              ..\n",
       "VRANCISCO SILVB SOSSA          1\n",
       "WELINGTON IDANILDO MACELINO    1\n",
       "WELLINGTON                     1\n",
       "YURI CARLOS SOUSA              1\n",
       "ZACARIAS                       1\n",
       "Length: 199, dtype: int64"
      ]
     },
     "execution_count": 44,
     "metadata": {},
     "output_type": "execute_result"
    }
   ],
   "source": [
    "agrupado = dengue.groupby(['Nome da Mae']).size()\n",
    "agrupado\n",
    "#199 de 212 valores repetidos ou vazios"
   ]
  },
  {
   "cell_type": "code",
   "execution_count": 46,
   "metadata": {},
   "outputs": [
    {
     "data": {
      "text/plain": [
       "Nome do Pai\n",
       "ADRIANA ALMEIDA OLIVEIRA    1\n",
       "ADRIENE SOUTO LINHARES      1\n",
       "ALEXSANDRA H P              1\n",
       "ALICE                       1\n",
       "ALINE                       1\n",
       "                           ..\n",
       "TEREZINHA                   1\n",
       "VALDECIRA PAIVASINVA        1\n",
       "VALERIA SILVA LUCAS         1\n",
       "VELMA SOUZA SOUSA           1\n",
       "VLIANE XEREIRA TARIA        1\n",
       "Length: 199, dtype: int64"
      ]
     },
     "execution_count": 46,
     "metadata": {},
     "output_type": "execute_result"
    }
   ],
   "source": [
    "agrupado = dengue.groupby(['Nome do Pai']).size()\n",
    "agrupado\n",
    "#199 de 212 valores repetidos ou vazios"
   ]
  },
  {
   "cell_type": "code",
   "execution_count": 47,
   "metadata": {},
   "outputs": [
    {
     "data": {
      "text/plain": [
       "Sexo\n",
       "f    152\n",
       "m    137\n",
       "dtype: int64"
      ]
     },
     "execution_count": 47,
     "metadata": {},
     "output_type": "execute_result"
    }
   ],
   "source": [
    "agrupado = alunos.groupby(['Sexo']).size()\n",
    "agrupado\n",
    "#nenhuma divergencia observada"
   ]
  },
  {
   "cell_type": "code",
   "execution_count": 48,
   "metadata": {},
   "outputs": [
    {
     "data": {
      "text/plain": [
       "ID                    0\n",
       "Nome                  0\n",
       "Nome da Mae           0\n",
       "Nome do Pai           0\n",
       "Sexo                  0\n",
       "Data de Nascimento    0\n",
       "Data da Dengue        0\n",
       "dtype: int64"
      ]
     },
     "execution_count": 48,
     "metadata": {},
     "output_type": "execute_result"
    }
   ],
   "source": [
    "#Contamos valores NAN\n",
    "dengue.isnull().sum()"
   ]
  },
  {
   "cell_type": "code",
   "execution_count": 49,
   "metadata": {},
   "outputs": [
    {
     "data": {
      "text/html": [
       "<div>\n",
       "<style scoped>\n",
       "    .dataframe tbody tr th:only-of-type {\n",
       "        vertical-align: middle;\n",
       "    }\n",
       "\n",
       "    .dataframe tbody tr th {\n",
       "        vertical-align: top;\n",
       "    }\n",
       "\n",
       "    .dataframe thead th {\n",
       "        text-align: right;\n",
       "    }\n",
       "</style>\n",
       "<table border=\"1\" class=\"dataframe\">\n",
       "  <thead>\n",
       "    <tr style=\"text-align: right;\">\n",
       "      <th></th>\n",
       "      <th>ID</th>\n",
       "      <th>Nome</th>\n",
       "      <th>Nome do Pai</th>\n",
       "      <th>Nome da Mae</th>\n",
       "      <th>Sexo</th>\n",
       "      <th>Data de Nascimento</th>\n",
       "    </tr>\n",
       "  </thead>\n",
       "  <tbody>\n",
       "    <tr>\n",
       "      <th>9</th>\n",
       "      <td>9</td>\n",
       "      <td>MARIA</td>\n",
       "      <td>RPIMUNDO VIANA ALVES</td>\n",
       "      <td>MARGARIDA MARINETE BEZERRA</td>\n",
       "      <td>f</td>\n",
       "      <td>2-7-2044 00:00:00</td>\n",
       "    </tr>\n",
       "    <tr>\n",
       "      <th>47</th>\n",
       "      <td>47</td>\n",
       "      <td>MARIA</td>\n",
       "      <td>MANOEL NONATO AVELINO</td>\n",
       "      <td>MARIA C P</td>\n",
       "      <td>f</td>\n",
       "      <td>27-4-0057 00:00:00</td>\n",
       "    </tr>\n",
       "    <tr>\n",
       "      <th>83</th>\n",
       "      <td>83</td>\n",
       "      <td>MARIA</td>\n",
       "      <td>RAIMUNOO</td>\n",
       "      <td>ELIANE PEREIRA MARIA</td>\n",
       "      <td>f</td>\n",
       "      <td>9-6-1998 00:00:00</td>\n",
       "    </tr>\n",
       "    <tr>\n",
       "      <th>86</th>\n",
       "      <td>86</td>\n",
       "      <td>MARIA</td>\n",
       "      <td>FRANCISCO PEREIRA LIMA</td>\n",
       "      <td>ANTONIA CLEIDE SANTOS</td>\n",
       "      <td>f</td>\n",
       "      <td>9-5-1394 00:00:00</td>\n",
       "    </tr>\n",
       "    <tr>\n",
       "      <th>174</th>\n",
       "      <td>174</td>\n",
       "      <td>MARIA</td>\n",
       "      <td>MANOEL OLIVEIRA SILVA</td>\n",
       "      <td>MARIA CARMO SILVA</td>\n",
       "      <td>f</td>\n",
       "      <td>27-8-5087 00:00:00</td>\n",
       "    </tr>\n",
       "    <tr>\n",
       "      <th>186</th>\n",
       "      <td>186</td>\n",
       "      <td>FRANCISCO</td>\n",
       "      <td>FRANCISCO F S</td>\n",
       "      <td>FRANCISCA SILVA PRAZERES</td>\n",
       "      <td>m</td>\n",
       "      <td>8-10-2204 00:00:00</td>\n",
       "    </tr>\n",
       "    <tr>\n",
       "      <th>226</th>\n",
       "      <td>226</td>\n",
       "      <td>MARIA</td>\n",
       "      <td>PEDRO</td>\n",
       "      <td>DAMIANY</td>\n",
       "      <td>f</td>\n",
       "      <td>20-81-2012 00:00:00</td>\n",
       "    </tr>\n",
       "    <tr>\n",
       "      <th>239</th>\n",
       "      <td>239</td>\n",
       "      <td>MARIA</td>\n",
       "      <td>FRANCISCO S T</td>\n",
       "      <td>MARIA PEREIRA CAVALCANTE</td>\n",
       "      <td>f</td>\n",
       "      <td>42-3-1697 00:00:00</td>\n",
       "    </tr>\n",
       "    <tr>\n",
       "      <th>248</th>\n",
       "      <td>248</td>\n",
       "      <td>MARIA</td>\n",
       "      <td>JULIO S S</td>\n",
       "      <td>FABIOLA PAULA PEREIRA</td>\n",
       "      <td>f</td>\n",
       "      <td>19-8-1991 00:00:00</td>\n",
       "    </tr>\n",
       "    <tr>\n",
       "      <th>281</th>\n",
       "      <td>281</td>\n",
       "      <td>FRANCISCO</td>\n",
       "      <td>EUGENIO ERIVAN ALVES</td>\n",
       "      <td>ELIZONETE JOSE PEREIRA</td>\n",
       "      <td>m</td>\n",
       "      <td>64-4-2012 00:00:00</td>\n",
       "    </tr>\n",
       "  </tbody>\n",
       "</table>\n",
       "</div>"
      ],
      "text/plain": [
       "      ID       Nome             Nome do Pai                 Nome da Mae Sexo  \\\n",
       "9      9      MARIA    RPIMUNDO VIANA ALVES  MARGARIDA MARINETE BEZERRA    f   \n",
       "47    47      MARIA   MANOEL NONATO AVELINO                   MARIA C P    f   \n",
       "83    83      MARIA                RAIMUNOO        ELIANE PEREIRA MARIA    f   \n",
       "86    86      MARIA  FRANCISCO PEREIRA LIMA       ANTONIA CLEIDE SANTOS    f   \n",
       "174  174      MARIA   MANOEL OLIVEIRA SILVA           MARIA CARMO SILVA    f   \n",
       "186  186  FRANCISCO           FRANCISCO F S    FRANCISCA SILVA PRAZERES    m   \n",
       "226  226      MARIA                   PEDRO                     DAMIANY    f   \n",
       "239  239      MARIA           FRANCISCO S T    MARIA PEREIRA CAVALCANTE    f   \n",
       "248  248      MARIA               JULIO S S       FABIOLA PAULA PEREIRA    f   \n",
       "281  281  FRANCISCO    EUGENIO ERIVAN ALVES      ELIZONETE JOSE PEREIRA    m   \n",
       "\n",
       "      Data de Nascimento  \n",
       "9      2-7-2044 00:00:00  \n",
       "47    27-4-0057 00:00:00  \n",
       "83     9-6-1998 00:00:00  \n",
       "86     9-5-1394 00:00:00  \n",
       "174   27-8-5087 00:00:00  \n",
       "186   8-10-2204 00:00:00  \n",
       "226  20-81-2012 00:00:00  \n",
       "239   42-3-1697 00:00:00  \n",
       "248   19-8-1991 00:00:00  \n",
       "281   64-4-2012 00:00:00  "
      ]
     },
     "execution_count": 49,
     "metadata": {},
     "output_type": "execute_result"
    }
   ],
   "source": [
    "alunos[alunos.duplicated(['Nome'], keep=False)]\n",
    "#Aparentemente mesmo com nomes repetidos os nomes dos pais não se repetem, ou seja, são pessoas diferentes\n",
    "#Também observamos que o nome da coluna \"Nome de Mae\" e \"Nome do Pai\" estão invertidas"
   ]
  }
 ],
 "metadata": {
  "kernelspec": {
   "display_name": "Python 3",
   "language": "python",
   "name": "python3"
  },
  "language_info": {
   "codemirror_mode": {
    "name": "ipython",
    "version": 3
   },
   "file_extension": ".py",
   "mimetype": "text/x-python",
   "name": "python",
   "nbconvert_exporter": "python",
   "pygments_lexer": "ipython3",
   "version": "3.8.5"
  }
 },
 "nbformat": 4,
 "nbformat_minor": 4
}
