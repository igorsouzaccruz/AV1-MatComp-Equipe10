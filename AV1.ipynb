{
 "cells": [
  {
   "cell_type": "markdown",
   "metadata": {},
   "source": [
    "## Trabalho referente a AV1 - Matemática para Computação\n",
    "# Banco de Dados Equipe 10\n",
    "\n",
    "Equipe:\n",
    " - Igor Souza Cruz 2111597\n",
    " - Lissandra Martins Moura 2218019\n",
    " - Jeosafá Ferreira Do Nascimento 2217282\n",
    " - Nicolas Freire Santiago 2218668\n",
    " "
   ]
  },
  {
   "cell_type": "code",
   "execution_count": 129,
   "metadata": {},
   "outputs": [],
   "source": [
    "import pandas as pd\n",
    "import seaborn as srn\n",
    "import statistics as sts\n",
    "\n",
    "%matplotlib inline\n",
    "import matplotlib_venn as vplt\n",
    "from matplotlib import pyplot as plt"
   ]
  },
  {
   "cell_type": "markdown",
   "metadata": {},
   "source": [
    " Importação de dados CSV referente a alunos, dengue e ônibus:"
   ]
  },
  {
   "cell_type": "code",
   "execution_count": 2,
   "metadata": {},
   "outputs": [],
   "source": [
    "#Importando dados CSV\n",
    "alunos = pd.read_csv(\"alunos.csv\", sep=\";\")\n",
    "dengue = pd.read_csv(\"dengue.csv\", sep=\";\")\n",
    "onibus = pd.read_csv(\"onibus.csv\", sep=\";\")\n"
   ]
  },
  {
   "cell_type": "markdown",
   "metadata": {},
   "source": [
    "# Realização da análise dos dados obtidos e tratamento:\n",
    "\n",
    "Problemas observados:\n",
    "\n",
    "- O nome da coluna \"Nome de Mae\" e \"Nome do Pai\" estão invertidas;\n",
    "- Datas em formatações diversas, porém serão deixadas como tal por representar dados que não devem ser alterados;\n",
    "- A coluna 'Sexo' possui diferentes siglas para se referir ao mesmo objeto;\n",
    "- 'Nome', 'Nome de Mae' e 'Nome do Pai' aparecem escritos de forma incompleta ou errados, porém serão usados como parametros para identificar igualdade.\n",
    "- A coluna 'ID' aprensa IDs diferentes em diferentes tabelas paras os mesmos indivíduos.\n"
   ]
  },
  {
   "cell_type": "code",
   "execution_count": 3,
   "metadata": {},
   "outputs": [
    {
     "data": {
      "text/html": [
       "<div>\n",
       "<style scoped>\n",
       "    .dataframe tbody tr th:only-of-type {\n",
       "        vertical-align: middle;\n",
       "    }\n",
       "\n",
       "    .dataframe tbody tr th {\n",
       "        vertical-align: top;\n",
       "    }\n",
       "\n",
       "    .dataframe thead th {\n",
       "        text-align: right;\n",
       "    }\n",
       "</style>\n",
       "<table border=\"1\" class=\"dataframe\">\n",
       "  <thead>\n",
       "    <tr style=\"text-align: right;\">\n",
       "      <th></th>\n",
       "      <th>ID</th>\n",
       "      <th>Nome</th>\n",
       "      <th>Nome da Mae</th>\n",
       "      <th>Nome do Pai</th>\n",
       "      <th>Sexo</th>\n",
       "      <th>Data de Nascimento</th>\n",
       "    </tr>\n",
       "  </thead>\n",
       "  <tbody>\n",
       "    <tr>\n",
       "      <th>0</th>\n",
       "      <td>0</td>\n",
       "      <td>FRANCISCA SALES LIMA</td>\n",
       "      <td>ELISEU CASTRO LIMA</td>\n",
       "      <td>SANDRA SALES CHAGAS</td>\n",
       "      <td>f</td>\n",
       "      <td>10-7-1997 00:00:00</td>\n",
       "    </tr>\n",
       "    <tr>\n",
       "      <th>1</th>\n",
       "      <td>1</td>\n",
       "      <td>DARIO MELO CELISMAN</td>\n",
       "      <td>JOAO SILVA CELISMAN</td>\n",
       "      <td>MARIA MELO MARLETE</td>\n",
       "      <td>m</td>\n",
       "      <td>24-3-2022 00:00:00</td>\n",
       "    </tr>\n",
       "    <tr>\n",
       "      <th>2</th>\n",
       "      <td>2</td>\n",
       "      <td>ANTONIA SILVA BARBOSA</td>\n",
       "      <td>RAIMUNDO</td>\n",
       "      <td>MARIA SILVA GIRAO</td>\n",
       "      <td>f</td>\n",
       "      <td>68-9-2009 00:00:00</td>\n",
       "    </tr>\n",
       "    <tr>\n",
       "      <th>3</th>\n",
       "      <td>3</td>\n",
       "      <td>SAMARA SANTOS MONTEIRO</td>\n",
       "      <td>JOSE</td>\n",
       "      <td>MARIA SANTOS LIDUINA</td>\n",
       "      <td>f</td>\n",
       "      <td>25-4-1999 00:00:00</td>\n",
       "    </tr>\n",
       "    <tr>\n",
       "      <th>4</th>\n",
       "      <td>4</td>\n",
       "      <td>JESSICA</td>\n",
       "      <td>FRANCISCO ALMEIDA SOUSA</td>\n",
       "      <td>RAIMUNDA SOCORRO HERMINIO</td>\n",
       "      <td>f</td>\n",
       "      <td>18-11-1998 00:00:00</td>\n",
       "    </tr>\n",
       "  </tbody>\n",
       "</table>\n",
       "</div>"
      ],
      "text/plain": [
       "   ID                    Nome              Nome da Mae  \\\n",
       "0   0    FRANCISCA SALES LIMA       ELISEU CASTRO LIMA   \n",
       "1   1     DARIO MELO CELISMAN      JOAO SILVA CELISMAN   \n",
       "2   2   ANTONIA SILVA BARBOSA                 RAIMUNDO   \n",
       "3   3  SAMARA SANTOS MONTEIRO                     JOSE   \n",
       "4   4                 JESSICA  FRANCISCO ALMEIDA SOUSA   \n",
       "\n",
       "                 Nome do Pai Sexo   Data de Nascimento  \n",
       "0        SANDRA SALES CHAGAS    f   10-7-1997 00:00:00  \n",
       "1         MARIA MELO MARLETE    m   24-3-2022 00:00:00  \n",
       "2          MARIA SILVA GIRAO    f   68-9-2009 00:00:00  \n",
       "3       MARIA SANTOS LIDUINA    f   25-4-1999 00:00:00  \n",
       "4  RAIMUNDA SOCORRO HERMINIO    f  18-11-1998 00:00:00  "
      ]
     },
     "execution_count": 3,
     "metadata": {},
     "output_type": "execute_result"
    }
   ],
   "source": [
    "#Mostrando dados Alunos\n",
    "alunos.head()"
   ]
  },
  {
   "cell_type": "code",
   "execution_count": 4,
   "metadata": {},
   "outputs": [
    {
     "data": {
      "text/html": [
       "<div>\n",
       "<style scoped>\n",
       "    .dataframe tbody tr th:only-of-type {\n",
       "        vertical-align: middle;\n",
       "    }\n",
       "\n",
       "    .dataframe tbody tr th {\n",
       "        vertical-align: top;\n",
       "    }\n",
       "\n",
       "    .dataframe thead th {\n",
       "        text-align: right;\n",
       "    }\n",
       "</style>\n",
       "<table border=\"1\" class=\"dataframe\">\n",
       "  <thead>\n",
       "    <tr style=\"text-align: right;\">\n",
       "      <th></th>\n",
       "      <th>ID</th>\n",
       "      <th>Nome</th>\n",
       "      <th>Nome da Mae</th>\n",
       "      <th>Nome do Pai</th>\n",
       "      <th>Sexo</th>\n",
       "      <th>Data de Nascimento</th>\n",
       "      <th>Data da Dengue</th>\n",
       "    </tr>\n",
       "  </thead>\n",
       "  <tbody>\n",
       "    <tr>\n",
       "      <th>0</th>\n",
       "      <td>0</td>\n",
       "      <td>MARCIA VASCONCELOS SILVA</td>\n",
       "      <td>JEFFERSON FERREIRA SILVA</td>\n",
       "      <td>MARIA VASCONCELOS LEITE</td>\n",
       "      <td>F</td>\n",
       "      <td>0/2/8976</td>\n",
       "      <td>30/8/1687</td>\n",
       "    </tr>\n",
       "    <tr>\n",
       "      <th>1</th>\n",
       "      <td>1</td>\n",
       "      <td>WESLEY SANTOS FILHO</td>\n",
       "      <td>JOAO SILVA FILHO</td>\n",
       "      <td>MARILIA SANTOS MACEDO</td>\n",
       "      <td>M</td>\n",
       "      <td>1/6/1288</td>\n",
       "      <td>30/1/1971</td>\n",
       "    </tr>\n",
       "    <tr>\n",
       "      <th>2</th>\n",
       "      <td>2</td>\n",
       "      <td>EVELINE SILVA MIGUEL</td>\n",
       "      <td>FRANCISCO MIGUEL SILVA</td>\n",
       "      <td>MARIA SITVA SIOVP</td>\n",
       "      <td>F</td>\n",
       "      <td>4/10/2002</td>\n",
       "      <td>25/9/2016</td>\n",
       "    </tr>\n",
       "    <tr>\n",
       "      <th>3</th>\n",
       "      <td>3</td>\n",
       "      <td>GISELE</td>\n",
       "      <td>IVONALDO FREITAS ALVES</td>\n",
       "      <td>CRISTIANE SANTOS SANTOS</td>\n",
       "      <td>F</td>\n",
       "      <td>13/6/1907</td>\n",
       "      <td>5/8/2011</td>\n",
       "    </tr>\n",
       "    <tr>\n",
       "      <th>4</th>\n",
       "      <td>4</td>\n",
       "      <td>GISELKE COELHO OLIVEIRA</td>\n",
       "      <td>GUTEMBERGUE SANTOS OLIVEIRA</td>\n",
       "      <td>MARIA C A</td>\n",
       "      <td>F</td>\n",
       "      <td>18/3/8961</td>\n",
       "      <td>9/10/2079</td>\n",
       "    </tr>\n",
       "  </tbody>\n",
       "</table>\n",
       "</div>"
      ],
      "text/plain": [
       "   ID                      Nome                  Nome da Mae  \\\n",
       "0   0  MARCIA VASCONCELOS SILVA     JEFFERSON FERREIRA SILVA   \n",
       "1   1       WESLEY SANTOS FILHO             JOAO SILVA FILHO   \n",
       "2   2      EVELINE SILVA MIGUEL       FRANCISCO MIGUEL SILVA   \n",
       "3   3                    GISELE       IVONALDO FREITAS ALVES   \n",
       "4   4   GISELKE COELHO OLIVEIRA  GUTEMBERGUE SANTOS OLIVEIRA   \n",
       "\n",
       "               Nome do Pai Sexo Data de Nascimento Data da Dengue  \n",
       "0  MARIA VASCONCELOS LEITE    F           0/2/8976      30/8/1687  \n",
       "1    MARILIA SANTOS MACEDO    M           1/6/1288      30/1/1971  \n",
       "2        MARIA SITVA SIOVP    F          4/10/2002      25/9/2016  \n",
       "3  CRISTIANE SANTOS SANTOS    F          13/6/1907       5/8/2011  \n",
       "4                MARIA C A    F          18/3/8961      9/10/2079  "
      ]
     },
     "execution_count": 4,
     "metadata": {},
     "output_type": "execute_result"
    }
   ],
   "source": [
    "#Mostrando dados Dengue\n",
    "dengue.head()"
   ]
  },
  {
   "cell_type": "code",
   "execution_count": 5,
   "metadata": {},
   "outputs": [
    {
     "data": {
      "text/html": [
       "<div>\n",
       "<style scoped>\n",
       "    .dataframe tbody tr th:only-of-type {\n",
       "        vertical-align: middle;\n",
       "    }\n",
       "\n",
       "    .dataframe tbody tr th {\n",
       "        vertical-align: top;\n",
       "    }\n",
       "\n",
       "    .dataframe thead th {\n",
       "        text-align: right;\n",
       "    }\n",
       "</style>\n",
       "<table border=\"1\" class=\"dataframe\">\n",
       "  <thead>\n",
       "    <tr style=\"text-align: right;\">\n",
       "      <th></th>\n",
       "      <th>ID</th>\n",
       "      <th>Nome</th>\n",
       "      <th>Nome da Mae</th>\n",
       "      <th>Nome do Pai</th>\n",
       "      <th>Sexo</th>\n",
       "      <th>Data de Nascimento</th>\n",
       "      <th>Onibus</th>\n",
       "    </tr>\n",
       "  </thead>\n",
       "  <tbody>\n",
       "    <tr>\n",
       "      <th>0</th>\n",
       "      <td>0</td>\n",
       "      <td>LUCAS</td>\n",
       "      <td>EDIBERTO FARIAS MATOS</td>\n",
       "      <td>MFRIA BARAOSFEDREUFA</td>\n",
       "      <td>H</td>\n",
       "      <td>271988</td>\n",
       "      <td>893, 529, 744, 718, 709</td>\n",
       "    </tr>\n",
       "    <tr>\n",
       "      <th>1</th>\n",
       "      <td>1</td>\n",
       "      <td>PIULO Q F</td>\n",
       "      <td>ANTONIO</td>\n",
       "      <td>MARIA QUEIROZ SANTOS</td>\n",
       "      <td>H</td>\n",
       "      <td>161956</td>\n",
       "      <td>912, 223, 689, 333, 754, 537, 779, 203, 569</td>\n",
       "    </tr>\n",
       "    <tr>\n",
       "      <th>2</th>\n",
       "      <td>2</td>\n",
       "      <td>FRANCISCO S S</td>\n",
       "      <td>JEOVA OLIVEIRA SILVA</td>\n",
       "      <td>VERANEIDE SANTOS SILVA</td>\n",
       "      <td>H</td>\n",
       "      <td>2471938</td>\n",
       "      <td>397, 213, 767</td>\n",
       "    </tr>\n",
       "    <tr>\n",
       "      <th>3</th>\n",
       "      <td>3</td>\n",
       "      <td>GERANIO SILVA SOUZA</td>\n",
       "      <td>GONZAGA</td>\n",
       "      <td>ELIZABETH SILVA VALE</td>\n",
       "      <td>H</td>\n",
       "      <td>1101993</td>\n",
       "      <td>574, 583, 726, 184</td>\n",
       "    </tr>\n",
       "    <tr>\n",
       "      <th>4</th>\n",
       "      <td>4</td>\n",
       "      <td>VALBERLANIA COSTA FREITAS</td>\n",
       "      <td>OSMAR NASCIMENTO FREITAS</td>\n",
       "      <td>ANA COSTA NASCIMENTO</td>\n",
       "      <td>M</td>\n",
       "      <td>101067</td>\n",
       "      <td>010, 152</td>\n",
       "    </tr>\n",
       "  </tbody>\n",
       "</table>\n",
       "</div>"
      ],
      "text/plain": [
       "   ID                       Nome               Nome da Mae  \\\n",
       "0   0                      LUCAS     EDIBERTO FARIAS MATOS   \n",
       "1   1                  PIULO Q F                   ANTONIO   \n",
       "2   2              FRANCISCO S S      JEOVA OLIVEIRA SILVA   \n",
       "3   3        GERANIO SILVA SOUZA                   GONZAGA   \n",
       "4   4  VALBERLANIA COSTA FREITAS  OSMAR NASCIMENTO FREITAS   \n",
       "\n",
       "              Nome do Pai Sexo  Data de Nascimento  \\\n",
       "0    MFRIA BARAOSFEDREUFA    H              271988   \n",
       "1    MARIA QUEIROZ SANTOS    H              161956   \n",
       "2  VERANEIDE SANTOS SILVA    H             2471938   \n",
       "3    ELIZABETH SILVA VALE    H             1101993   \n",
       "4    ANA COSTA NASCIMENTO    M              101067   \n",
       "\n",
       "                                        Onibus  \n",
       "0                      893, 529, 744, 718, 709  \n",
       "1  912, 223, 689, 333, 754, 537, 779, 203, 569  \n",
       "2                                397, 213, 767  \n",
       "3                           574, 583, 726, 184  \n",
       "4                                     010, 152  "
      ]
     },
     "execution_count": 5,
     "metadata": {},
     "output_type": "execute_result"
    }
   ],
   "source": [
    "#Mostrando dados Onibus\n",
    "onibus.head()"
   ]
  },
  {
   "cell_type": "code",
   "execution_count": 6,
   "metadata": {},
   "outputs": [
    {
     "data": {
      "text/plain": [
       "(289, 6)"
      ]
     },
     "execution_count": 6,
     "metadata": {},
     "output_type": "execute_result"
    }
   ],
   "source": [
    "#Tamanho dados Alunos\n",
    "alunos.shape"
   ]
  },
  {
   "cell_type": "code",
   "execution_count": 7,
   "metadata": {},
   "outputs": [
    {
     "data": {
      "text/plain": [
       "(212, 7)"
      ]
     },
     "execution_count": 7,
     "metadata": {},
     "output_type": "execute_result"
    }
   ],
   "source": [
    "#Tamanho dados Dengue\n",
    "dengue.shape"
   ]
  },
  {
   "cell_type": "code",
   "execution_count": 8,
   "metadata": {},
   "outputs": [
    {
     "data": {
      "text/plain": [
       "(278, 7)"
      ]
     },
     "execution_count": 8,
     "metadata": {},
     "output_type": "execute_result"
    }
   ],
   "source": [
    "#Tamanho dados Onibus\n",
    "onibus.shape"
   ]
  },
  {
   "cell_type": "markdown",
   "metadata": {},
   "source": [
    "# Analisando dados dos alunos:"
   ]
  },
  {
   "cell_type": "code",
   "execution_count": 9,
   "metadata": {},
   "outputs": [
    {
     "data": {
      "text/plain": [
       "Nome\n",
       "ADILSON SANTOS WELLINGTON    1\n",
       "ADRIANA G F                  1\n",
       "ADRIEL FRANCA LOPES          1\n",
       "ADRIELLE MARIA SANTOS        1\n",
       "AHEREZA L S                  1\n",
       "                            ..\n",
       "WERMESON GORETE OLIVEIRA     1\n",
       "WEVERLANNE AQUINO BOMFIM     1\n",
       "WUKA NASOIMENTP AANELHA      1\n",
       "YEGOR ALVES NETO             1\n",
       "YUDI SILVA CUNHA             1\n",
       "Length: 281, dtype: int64"
      ]
     },
     "execution_count": 9,
     "metadata": {},
     "output_type": "execute_result"
    }
   ],
   "source": [
    "#Nome\n",
    "agrupado = alunos.groupby(['Nome']).size()\n",
    "agrupado\n",
    "#281 de 289 valores repetidos ou vazios"
   ]
  },
  {
   "cell_type": "code",
   "execution_count": 10,
   "metadata": {},
   "outputs": [
    {
     "data": {
      "text/plain": [
       "Sexo\n",
       "f    152\n",
       "m    137\n",
       "dtype: int64"
      ]
     },
     "execution_count": 10,
     "metadata": {},
     "output_type": "execute_result"
    }
   ],
   "source": [
    "agrupado = alunos.groupby(['Sexo']).size()\n",
    "agrupado\n",
    "#nenhuma divergencia observada"
   ]
  },
  {
   "cell_type": "code",
   "execution_count": 11,
   "metadata": {},
   "outputs": [
    {
     "data": {
      "text/plain": [
       "Nome da Mae\n",
       "ABDORAL                        1\n",
       "ABELARDO ALMEIDA SOUSA         1\n",
       "ABERLADO MONTEIRO GUIMARAES    1\n",
       "AEDRO RIBEIRO SOBRINHO         1\n",
       "ALFREDO MOURA FERREIRA         1\n",
       "                              ..\n",
       "VAULO                          1\n",
       "VENANCIO SILVA AMARAL          1\n",
       "VICENTE LIMA CARVALHO          1\n",
       "WCLLIIGSOJ ALVEU BOFFIM        1\n",
       "ZUGUIDO C M                    1\n",
       "Length: 264, dtype: int64"
      ]
     },
     "execution_count": 11,
     "metadata": {},
     "output_type": "execute_result"
    }
   ],
   "source": [
    "agrupado = alunos.groupby(['Nome da Mae']).size()\n",
    "agrupado\n",
    "#264 de 289 valores repetidos ou vazios"
   ]
  },
  {
   "cell_type": "code",
   "execution_count": 12,
   "metadata": {},
   "outputs": [
    {
     "data": {
      "text/plain": [
       "Nome do Pai\n",
       "ADRIANA C S                  1\n",
       "ALDEVAM EVENICE SAMPAIO      1\n",
       "ALESNIAAFATIMA SOHZA         1\n",
       "ALEXYANDRA IVOPETE COSTJ     1\n",
       "ALEZABETA                    1\n",
       "                            ..\n",
       "VANDA ABREU ARAUJO           1\n",
       "VANIA                        1\n",
       "VIVIANE CORDEIRO FEITOSA     1\n",
       "WRANCTMUR OLIVEIRA SANTOS    1\n",
       "YARPA N R                    1\n",
       "Length: 266, dtype: int64"
      ]
     },
     "execution_count": 12,
     "metadata": {},
     "output_type": "execute_result"
    }
   ],
   "source": [
    "agrupado = alunos.groupby(['Nome do Pai']).size()\n",
    "agrupado\n",
    "#266 de 289 valores repetidos ou vazios"
   ]
  },
  {
   "cell_type": "code",
   "execution_count": 13,
   "metadata": {},
   "outputs": [
    {
     "data": {
      "text/plain": [
       "ID                    0\n",
       "Nome                  0\n",
       "Nome da Mae           0\n",
       "Nome do Pai           0\n",
       "Sexo                  0\n",
       "Data de Nascimento    0\n",
       "dtype: int64"
      ]
     },
     "execution_count": 13,
     "metadata": {},
     "output_type": "execute_result"
    }
   ],
   "source": [
    "#Contamos valores NAN\n",
    "alunos.isnull().sum()"
   ]
  },
  {
   "cell_type": "markdown",
   "metadata": {},
   "source": [
    "Aparentemente mesmo com nomes repetidos os nomes dos pais não se repetem, ou seja, são pessoas diferentes!"
   ]
  },
  {
   "cell_type": "code",
   "execution_count": 14,
   "metadata": {},
   "outputs": [
    {
     "data": {
      "text/html": [
       "<div>\n",
       "<style scoped>\n",
       "    .dataframe tbody tr th:only-of-type {\n",
       "        vertical-align: middle;\n",
       "    }\n",
       "\n",
       "    .dataframe tbody tr th {\n",
       "        vertical-align: top;\n",
       "    }\n",
       "\n",
       "    .dataframe thead th {\n",
       "        text-align: right;\n",
       "    }\n",
       "</style>\n",
       "<table border=\"1\" class=\"dataframe\">\n",
       "  <thead>\n",
       "    <tr style=\"text-align: right;\">\n",
       "      <th></th>\n",
       "      <th>ID</th>\n",
       "      <th>Nome</th>\n",
       "      <th>Nome da Mae</th>\n",
       "      <th>Nome do Pai</th>\n",
       "      <th>Sexo</th>\n",
       "      <th>Data de Nascimento</th>\n",
       "    </tr>\n",
       "  </thead>\n",
       "  <tbody>\n",
       "    <tr>\n",
       "      <th>9</th>\n",
       "      <td>9</td>\n",
       "      <td>MARIA</td>\n",
       "      <td>RPIMUNDO VIANA ALVES</td>\n",
       "      <td>MARGARIDA MARINETE BEZERRA</td>\n",
       "      <td>f</td>\n",
       "      <td>2-7-2044 00:00:00</td>\n",
       "    </tr>\n",
       "    <tr>\n",
       "      <th>47</th>\n",
       "      <td>47</td>\n",
       "      <td>MARIA</td>\n",
       "      <td>MANOEL NONATO AVELINO</td>\n",
       "      <td>MARIA C P</td>\n",
       "      <td>f</td>\n",
       "      <td>27-4-0057 00:00:00</td>\n",
       "    </tr>\n",
       "    <tr>\n",
       "      <th>83</th>\n",
       "      <td>83</td>\n",
       "      <td>MARIA</td>\n",
       "      <td>RAIMUNOO</td>\n",
       "      <td>ELIANE PEREIRA MARIA</td>\n",
       "      <td>f</td>\n",
       "      <td>9-6-1998 00:00:00</td>\n",
       "    </tr>\n",
       "    <tr>\n",
       "      <th>86</th>\n",
       "      <td>86</td>\n",
       "      <td>MARIA</td>\n",
       "      <td>FRANCISCO PEREIRA LIMA</td>\n",
       "      <td>ANTONIA CLEIDE SANTOS</td>\n",
       "      <td>f</td>\n",
       "      <td>9-5-1394 00:00:00</td>\n",
       "    </tr>\n",
       "    <tr>\n",
       "      <th>174</th>\n",
       "      <td>174</td>\n",
       "      <td>MARIA</td>\n",
       "      <td>MANOEL OLIVEIRA SILVA</td>\n",
       "      <td>MARIA CARMO SILVA</td>\n",
       "      <td>f</td>\n",
       "      <td>27-8-5087 00:00:00</td>\n",
       "    </tr>\n",
       "    <tr>\n",
       "      <th>186</th>\n",
       "      <td>186</td>\n",
       "      <td>FRANCISCO</td>\n",
       "      <td>FRANCISCO F S</td>\n",
       "      <td>FRANCISCA SILVA PRAZERES</td>\n",
       "      <td>m</td>\n",
       "      <td>8-10-2204 00:00:00</td>\n",
       "    </tr>\n",
       "    <tr>\n",
       "      <th>226</th>\n",
       "      <td>226</td>\n",
       "      <td>MARIA</td>\n",
       "      <td>PEDRO</td>\n",
       "      <td>DAMIANY</td>\n",
       "      <td>f</td>\n",
       "      <td>20-81-2012 00:00:00</td>\n",
       "    </tr>\n",
       "    <tr>\n",
       "      <th>239</th>\n",
       "      <td>239</td>\n",
       "      <td>MARIA</td>\n",
       "      <td>FRANCISCO S T</td>\n",
       "      <td>MARIA PEREIRA CAVALCANTE</td>\n",
       "      <td>f</td>\n",
       "      <td>42-3-1697 00:00:00</td>\n",
       "    </tr>\n",
       "    <tr>\n",
       "      <th>248</th>\n",
       "      <td>248</td>\n",
       "      <td>MARIA</td>\n",
       "      <td>JULIO S S</td>\n",
       "      <td>FABIOLA PAULA PEREIRA</td>\n",
       "      <td>f</td>\n",
       "      <td>19-8-1991 00:00:00</td>\n",
       "    </tr>\n",
       "    <tr>\n",
       "      <th>281</th>\n",
       "      <td>281</td>\n",
       "      <td>FRANCISCO</td>\n",
       "      <td>EUGENIO ERIVAN ALVES</td>\n",
       "      <td>ELIZONETE JOSE PEREIRA</td>\n",
       "      <td>m</td>\n",
       "      <td>64-4-2012 00:00:00</td>\n",
       "    </tr>\n",
       "  </tbody>\n",
       "</table>\n",
       "</div>"
      ],
      "text/plain": [
       "      ID       Nome             Nome da Mae                 Nome do Pai Sexo  \\\n",
       "9      9      MARIA    RPIMUNDO VIANA ALVES  MARGARIDA MARINETE BEZERRA    f   \n",
       "47    47      MARIA   MANOEL NONATO AVELINO                   MARIA C P    f   \n",
       "83    83      MARIA                RAIMUNOO        ELIANE PEREIRA MARIA    f   \n",
       "86    86      MARIA  FRANCISCO PEREIRA LIMA       ANTONIA CLEIDE SANTOS    f   \n",
       "174  174      MARIA   MANOEL OLIVEIRA SILVA           MARIA CARMO SILVA    f   \n",
       "186  186  FRANCISCO           FRANCISCO F S    FRANCISCA SILVA PRAZERES    m   \n",
       "226  226      MARIA                   PEDRO                     DAMIANY    f   \n",
       "239  239      MARIA           FRANCISCO S T    MARIA PEREIRA CAVALCANTE    f   \n",
       "248  248      MARIA               JULIO S S       FABIOLA PAULA PEREIRA    f   \n",
       "281  281  FRANCISCO    EUGENIO ERIVAN ALVES      ELIZONETE JOSE PEREIRA    m   \n",
       "\n",
       "      Data de Nascimento  \n",
       "9      2-7-2044 00:00:00  \n",
       "47    27-4-0057 00:00:00  \n",
       "83     9-6-1998 00:00:00  \n",
       "86     9-5-1394 00:00:00  \n",
       "174   27-8-5087 00:00:00  \n",
       "186   8-10-2204 00:00:00  \n",
       "226  20-81-2012 00:00:00  \n",
       "239   42-3-1697 00:00:00  \n",
       "248   19-8-1991 00:00:00  \n",
       "281   64-4-2012 00:00:00  "
      ]
     },
     "execution_count": 14,
     "metadata": {},
     "output_type": "execute_result"
    }
   ],
   "source": [
    "alunos[alunos.duplicated(['Nome'], keep=False)]"
   ]
  },
  {
   "cell_type": "markdown",
   "metadata": {},
   "source": [
    "Corrigindo nome de coluna."
   ]
  },
  {
   "cell_type": "code",
   "execution_count": 15,
   "metadata": {},
   "outputs": [
    {
     "data": {
      "text/html": [
       "<div>\n",
       "<style scoped>\n",
       "    .dataframe tbody tr th:only-of-type {\n",
       "        vertical-align: middle;\n",
       "    }\n",
       "\n",
       "    .dataframe tbody tr th {\n",
       "        vertical-align: top;\n",
       "    }\n",
       "\n",
       "    .dataframe thead th {\n",
       "        text-align: right;\n",
       "    }\n",
       "</style>\n",
       "<table border=\"1\" class=\"dataframe\">\n",
       "  <thead>\n",
       "    <tr style=\"text-align: right;\">\n",
       "      <th></th>\n",
       "      <th>ID</th>\n",
       "      <th>Nome</th>\n",
       "      <th>Nome do Pai</th>\n",
       "      <th>Nome da Mae</th>\n",
       "      <th>Sexo</th>\n",
       "      <th>Data de Nascimento</th>\n",
       "    </tr>\n",
       "  </thead>\n",
       "  <tbody>\n",
       "    <tr>\n",
       "      <th>0</th>\n",
       "      <td>0</td>\n",
       "      <td>FRANCISCA SALES LIMA</td>\n",
       "      <td>ELISEU CASTRO LIMA</td>\n",
       "      <td>SANDRA SALES CHAGAS</td>\n",
       "      <td>f</td>\n",
       "      <td>10-7-1997 00:00:00</td>\n",
       "    </tr>\n",
       "    <tr>\n",
       "      <th>1</th>\n",
       "      <td>1</td>\n",
       "      <td>DARIO MELO CELISMAN</td>\n",
       "      <td>JOAO SILVA CELISMAN</td>\n",
       "      <td>MARIA MELO MARLETE</td>\n",
       "      <td>m</td>\n",
       "      <td>24-3-2022 00:00:00</td>\n",
       "    </tr>\n",
       "    <tr>\n",
       "      <th>2</th>\n",
       "      <td>2</td>\n",
       "      <td>ANTONIA SILVA BARBOSA</td>\n",
       "      <td>RAIMUNDO</td>\n",
       "      <td>MARIA SILVA GIRAO</td>\n",
       "      <td>f</td>\n",
       "      <td>68-9-2009 00:00:00</td>\n",
       "    </tr>\n",
       "    <tr>\n",
       "      <th>3</th>\n",
       "      <td>3</td>\n",
       "      <td>SAMARA SANTOS MONTEIRO</td>\n",
       "      <td>JOSE</td>\n",
       "      <td>MARIA SANTOS LIDUINA</td>\n",
       "      <td>f</td>\n",
       "      <td>25-4-1999 00:00:00</td>\n",
       "    </tr>\n",
       "    <tr>\n",
       "      <th>4</th>\n",
       "      <td>4</td>\n",
       "      <td>JESSICA</td>\n",
       "      <td>FRANCISCO ALMEIDA SOUSA</td>\n",
       "      <td>RAIMUNDA SOCORRO HERMINIO</td>\n",
       "      <td>f</td>\n",
       "      <td>18-11-1998 00:00:00</td>\n",
       "    </tr>\n",
       "  </tbody>\n",
       "</table>\n",
       "</div>"
      ],
      "text/plain": [
       "   ID                    Nome              Nome do Pai  \\\n",
       "0   0    FRANCISCA SALES LIMA       ELISEU CASTRO LIMA   \n",
       "1   1     DARIO MELO CELISMAN      JOAO SILVA CELISMAN   \n",
       "2   2   ANTONIA SILVA BARBOSA                 RAIMUNDO   \n",
       "3   3  SAMARA SANTOS MONTEIRO                     JOSE   \n",
       "4   4                 JESSICA  FRANCISCO ALMEIDA SOUSA   \n",
       "\n",
       "                 Nome da Mae Sexo   Data de Nascimento  \n",
       "0        SANDRA SALES CHAGAS    f   10-7-1997 00:00:00  \n",
       "1         MARIA MELO MARLETE    m   24-3-2022 00:00:00  \n",
       "2          MARIA SILVA GIRAO    f   68-9-2009 00:00:00  \n",
       "3       MARIA SANTOS LIDUINA    f   25-4-1999 00:00:00  \n",
       "4  RAIMUNDA SOCORRO HERMINIO    f  18-11-1998 00:00:00  "
      ]
     },
     "execution_count": 15,
     "metadata": {},
     "output_type": "execute_result"
    }
   ],
   "source": [
    "alunos.columns = ['ID','Nome','Nome do Pai','Nome da Mae','Sexo','Data de Nascimento']\n",
    "#verificando\n",
    "alunos.head()"
   ]
  },
  {
   "cell_type": "markdown",
   "metadata": {},
   "source": [
    "# Analisando dados de Dengue:"
   ]
  },
  {
   "cell_type": "code",
   "execution_count": 16,
   "metadata": {},
   "outputs": [
    {
     "data": {
      "text/plain": [
       "Nome\n",
       "ADILSON S W               1\n",
       "ADRIANA ANTONIA KLEBER    1\n",
       "ADRIELLE MARIA SANTOS     1\n",
       "ALEXANDRE                 1\n",
       "ALINE ARAUJO GILBERTO     1\n",
       "                         ..\n",
       "WILLIAN                   1\n",
       "WLADEYLSON COSTA JOSE     1\n",
       "YLDI OFLVACUNWA           1\n",
       "YRUNO                     1\n",
       "YURI MARIA SILVA          1\n",
       "Length: 207, dtype: int64"
      ]
     },
     "execution_count": 16,
     "metadata": {},
     "output_type": "execute_result"
    }
   ],
   "source": [
    "agrupado = dengue.groupby(['Nome']).size()\n",
    "agrupado\n",
    "#207 de 212 valores repetidos ou vazios"
   ]
  },
  {
   "cell_type": "code",
   "execution_count": 17,
   "metadata": {},
   "outputs": [
    {
     "data": {
      "text/plain": [
       "Nome da Mae\n",
       "ABELARDO ALMEIDA SOUSA         1\n",
       "ADALBERTO B L                  1\n",
       "ADRIANO F S                    1\n",
       "ALEX NASCIMENTO ARAUJO         1\n",
       "ALLESSON R S                   1\n",
       "                              ..\n",
       "VRANCISCO SILVB SOSSA          1\n",
       "WELINGTON IDANILDO MACELINO    1\n",
       "WELLINGTON                     1\n",
       "YURI CARLOS SOUSA              1\n",
       "ZACARIAS                       1\n",
       "Length: 199, dtype: int64"
      ]
     },
     "execution_count": 17,
     "metadata": {},
     "output_type": "execute_result"
    }
   ],
   "source": [
    "agrupado = dengue.groupby(['Nome da Mae']).size()\n",
    "agrupado\n",
    "#199 de 212 valores repetidos ou vazios"
   ]
  },
  {
   "cell_type": "code",
   "execution_count": 106,
   "metadata": {},
   "outputs": [
    {
     "data": {
      "text/plain": [
       "Nome do Pai\n",
       "ABELARDO ALMEIDA SOUSA         1\n",
       "ADALBERTO B L                  1\n",
       "ADRIANO F S                    1\n",
       "ALEX NASCIMENTO ARAUJO         1\n",
       "ALLESSON R S                   1\n",
       "                              ..\n",
       "VRANCISCO SILVB SOSSA          1\n",
       "WELINGTON IDANILDO MACELINO    1\n",
       "WELLINGTON                     1\n",
       "YURI CARLOS SOUSA              1\n",
       "ZACARIAS                       1\n",
       "Length: 199, dtype: int64"
      ]
     },
     "execution_count": 106,
     "metadata": {},
     "output_type": "execute_result"
    }
   ],
   "source": [
    "agrupado = dengue.groupby(['Nome do Pai']).size()\n",
    "agrupado\n",
    "#199 de 212 valores repetidos ou vazios"
   ]
  },
  {
   "cell_type": "code",
   "execution_count": 19,
   "metadata": {},
   "outputs": [
    {
     "data": {
      "text/plain": [
       "Sexo\n",
       "f    152\n",
       "m    137\n",
       "dtype: int64"
      ]
     },
     "execution_count": 19,
     "metadata": {},
     "output_type": "execute_result"
    }
   ],
   "source": [
    "agrupado = alunos.groupby(['Sexo']).size()\n",
    "agrupado\n",
    "#nenhuma divergencia observada"
   ]
  },
  {
   "cell_type": "code",
   "execution_count": 20,
   "metadata": {},
   "outputs": [
    {
     "data": {
      "text/plain": [
       "ID                    0\n",
       "Nome                  0\n",
       "Nome da Mae           0\n",
       "Nome do Pai           0\n",
       "Sexo                  0\n",
       "Data de Nascimento    0\n",
       "Data da Dengue        0\n",
       "dtype: int64"
      ]
     },
     "execution_count": 20,
     "metadata": {},
     "output_type": "execute_result"
    }
   ],
   "source": [
    "#Contamos valores NAN\n",
    "dengue.isnull().sum()"
   ]
  },
  {
   "cell_type": "markdown",
   "metadata": {},
   "source": [
    "Aparentemente mesmo com nomes repetidos os nomes dos pais não se repetem, ou seja, são pessoas diferentes."
   ]
  },
  {
   "cell_type": "code",
   "execution_count": 21,
   "metadata": {},
   "outputs": [
    {
     "data": {
      "text/html": [
       "<div>\n",
       "<style scoped>\n",
       "    .dataframe tbody tr th:only-of-type {\n",
       "        vertical-align: middle;\n",
       "    }\n",
       "\n",
       "    .dataframe tbody tr th {\n",
       "        vertical-align: top;\n",
       "    }\n",
       "\n",
       "    .dataframe thead th {\n",
       "        text-align: right;\n",
       "    }\n",
       "</style>\n",
       "<table border=\"1\" class=\"dataframe\">\n",
       "  <thead>\n",
       "    <tr style=\"text-align: right;\">\n",
       "      <th></th>\n",
       "      <th>ID</th>\n",
       "      <th>Nome</th>\n",
       "      <th>Nome da Mae</th>\n",
       "      <th>Nome do Pai</th>\n",
       "      <th>Sexo</th>\n",
       "      <th>Data de Nascimento</th>\n",
       "      <th>Data da Dengue</th>\n",
       "    </tr>\n",
       "  </thead>\n",
       "  <tbody>\n",
       "    <tr>\n",
       "      <th>53</th>\n",
       "      <td>53</td>\n",
       "      <td>ANA</td>\n",
       "      <td>FLAVIO RODRIGUES MESQUITA</td>\n",
       "      <td>MARIA MELO PASSOS</td>\n",
       "      <td>F</td>\n",
       "      <td>29/3/2959</td>\n",
       "      <td>12/7/1994</td>\n",
       "    </tr>\n",
       "    <tr>\n",
       "      <th>56</th>\n",
       "      <td>56</td>\n",
       "      <td>MARIA</td>\n",
       "      <td>GREGORIO</td>\n",
       "      <td>SANDRA N F</td>\n",
       "      <td>F</td>\n",
       "      <td>18/09/1865</td>\n",
       "      <td>2/6/5015</td>\n",
       "    </tr>\n",
       "    <tr>\n",
       "      <th>65</th>\n",
       "      <td>65</td>\n",
       "      <td>MARIA</td>\n",
       "      <td>JOSE CARLOS MARIA</td>\n",
       "      <td>ANDREIA DUARTE SILVA</td>\n",
       "      <td>F</td>\n",
       "      <td>11/1/1988</td>\n",
       "      <td>43/7/5977</td>\n",
       "    </tr>\n",
       "    <tr>\n",
       "      <th>88</th>\n",
       "      <td>88</td>\n",
       "      <td>MARIA</td>\n",
       "      <td>EUGENIO SOUSA SILVA</td>\n",
       "      <td>FRANCISCA</td>\n",
       "      <td>F</td>\n",
       "      <td>5/9/1936</td>\n",
       "      <td>78/3/0013</td>\n",
       "    </tr>\n",
       "    <tr>\n",
       "      <th>132</th>\n",
       "      <td>132</td>\n",
       "      <td>MARIA</td>\n",
       "      <td>ANTONSOVALENTIM SINVA</td>\n",
       "      <td>DAMIANA SILVA SILVA</td>\n",
       "      <td>F</td>\n",
       "      <td>19/5/1986</td>\n",
       "      <td>0/2/0009</td>\n",
       "    </tr>\n",
       "    <tr>\n",
       "      <th>158</th>\n",
       "      <td>158</td>\n",
       "      <td>MARIA</td>\n",
       "      <td>JOSE SOUSA DOMINGOS</td>\n",
       "      <td>MARIA SILVA NASCIMENTO</td>\n",
       "      <td>F</td>\n",
       "      <td>24/9/9990</td>\n",
       "      <td>15/5/2018</td>\n",
       "    </tr>\n",
       "    <tr>\n",
       "      <th>187</th>\n",
       "      <td>187</td>\n",
       "      <td>ANA</td>\n",
       "      <td>ANTONIO S A</td>\n",
       "      <td>LUIZA FERREIRA SILVA</td>\n",
       "      <td>F</td>\n",
       "      <td>5/8/1917</td>\n",
       "      <td>19/9/2977</td>\n",
       "    </tr>\n",
       "  </tbody>\n",
       "</table>\n",
       "</div>"
      ],
      "text/plain": [
       "      ID   Nome                Nome da Mae             Nome do Pai Sexo  \\\n",
       "53    53    ANA  FLAVIO RODRIGUES MESQUITA       MARIA MELO PASSOS    F   \n",
       "56    56  MARIA                   GREGORIO              SANDRA N F    F   \n",
       "65    65  MARIA          JOSE CARLOS MARIA    ANDREIA DUARTE SILVA    F   \n",
       "88    88  MARIA        EUGENIO SOUSA SILVA               FRANCISCA    F   \n",
       "132  132  MARIA      ANTONSOVALENTIM SINVA     DAMIANA SILVA SILVA    F   \n",
       "158  158  MARIA        JOSE SOUSA DOMINGOS  MARIA SILVA NASCIMENTO    F   \n",
       "187  187    ANA                ANTONIO S A    LUIZA FERREIRA SILVA    F   \n",
       "\n",
       "    Data de Nascimento Data da Dengue  \n",
       "53           29/3/2959      12/7/1994  \n",
       "56          18/09/1865       2/6/5015  \n",
       "65           11/1/1988      43/7/5977  \n",
       "88            5/9/1936      78/3/0013  \n",
       "132          19/5/1986       0/2/0009  \n",
       "158          24/9/9990      15/5/2018  \n",
       "187           5/8/1917      19/9/2977  "
      ]
     },
     "execution_count": 21,
     "metadata": {},
     "output_type": "execute_result"
    }
   ],
   "source": [
    "dengue[dengue.duplicated(['Nome'], keep=False)]"
   ]
  },
  {
   "cell_type": "markdown",
   "metadata": {},
   "source": [
    "Corrigindo nome de coluna:"
   ]
  },
  {
   "cell_type": "code",
   "execution_count": 22,
   "metadata": {},
   "outputs": [
    {
     "data": {
      "text/html": [
       "<div>\n",
       "<style scoped>\n",
       "    .dataframe tbody tr th:only-of-type {\n",
       "        vertical-align: middle;\n",
       "    }\n",
       "\n",
       "    .dataframe tbody tr th {\n",
       "        vertical-align: top;\n",
       "    }\n",
       "\n",
       "    .dataframe thead th {\n",
       "        text-align: right;\n",
       "    }\n",
       "</style>\n",
       "<table border=\"1\" class=\"dataframe\">\n",
       "  <thead>\n",
       "    <tr style=\"text-align: right;\">\n",
       "      <th></th>\n",
       "      <th>ID</th>\n",
       "      <th>Nome</th>\n",
       "      <th>Nome do Pai</th>\n",
       "      <th>Nome da Mae</th>\n",
       "      <th>Sexo</th>\n",
       "      <th>Data de Nascimento</th>\n",
       "      <th>Data da Dengue</th>\n",
       "    </tr>\n",
       "  </thead>\n",
       "  <tbody>\n",
       "    <tr>\n",
       "      <th>0</th>\n",
       "      <td>0</td>\n",
       "      <td>MARCIA VASCONCELOS SILVA</td>\n",
       "      <td>JEFFERSON FERREIRA SILVA</td>\n",
       "      <td>MARIA VASCONCELOS LEITE</td>\n",
       "      <td>F</td>\n",
       "      <td>0/2/8976</td>\n",
       "      <td>30/8/1687</td>\n",
       "    </tr>\n",
       "    <tr>\n",
       "      <th>1</th>\n",
       "      <td>1</td>\n",
       "      <td>WESLEY SANTOS FILHO</td>\n",
       "      <td>JOAO SILVA FILHO</td>\n",
       "      <td>MARILIA SANTOS MACEDO</td>\n",
       "      <td>M</td>\n",
       "      <td>1/6/1288</td>\n",
       "      <td>30/1/1971</td>\n",
       "    </tr>\n",
       "    <tr>\n",
       "      <th>2</th>\n",
       "      <td>2</td>\n",
       "      <td>EVELINE SILVA MIGUEL</td>\n",
       "      <td>FRANCISCO MIGUEL SILVA</td>\n",
       "      <td>MARIA SITVA SIOVP</td>\n",
       "      <td>F</td>\n",
       "      <td>4/10/2002</td>\n",
       "      <td>25/9/2016</td>\n",
       "    </tr>\n",
       "    <tr>\n",
       "      <th>3</th>\n",
       "      <td>3</td>\n",
       "      <td>GISELE</td>\n",
       "      <td>IVONALDO FREITAS ALVES</td>\n",
       "      <td>CRISTIANE SANTOS SANTOS</td>\n",
       "      <td>F</td>\n",
       "      <td>13/6/1907</td>\n",
       "      <td>5/8/2011</td>\n",
       "    </tr>\n",
       "    <tr>\n",
       "      <th>4</th>\n",
       "      <td>4</td>\n",
       "      <td>GISELKE COELHO OLIVEIRA</td>\n",
       "      <td>GUTEMBERGUE SANTOS OLIVEIRA</td>\n",
       "      <td>MARIA C A</td>\n",
       "      <td>F</td>\n",
       "      <td>18/3/8961</td>\n",
       "      <td>9/10/2079</td>\n",
       "    </tr>\n",
       "  </tbody>\n",
       "</table>\n",
       "</div>"
      ],
      "text/plain": [
       "   ID                      Nome                  Nome do Pai  \\\n",
       "0   0  MARCIA VASCONCELOS SILVA     JEFFERSON FERREIRA SILVA   \n",
       "1   1       WESLEY SANTOS FILHO             JOAO SILVA FILHO   \n",
       "2   2      EVELINE SILVA MIGUEL       FRANCISCO MIGUEL SILVA   \n",
       "3   3                    GISELE       IVONALDO FREITAS ALVES   \n",
       "4   4   GISELKE COELHO OLIVEIRA  GUTEMBERGUE SANTOS OLIVEIRA   \n",
       "\n",
       "               Nome da Mae Sexo Data de Nascimento Data da Dengue  \n",
       "0  MARIA VASCONCELOS LEITE    F           0/2/8976      30/8/1687  \n",
       "1    MARILIA SANTOS MACEDO    M           1/6/1288      30/1/1971  \n",
       "2        MARIA SITVA SIOVP    F          4/10/2002      25/9/2016  \n",
       "3  CRISTIANE SANTOS SANTOS    F          13/6/1907       5/8/2011  \n",
       "4                MARIA C A    F          18/3/8961      9/10/2079  "
      ]
     },
     "execution_count": 22,
     "metadata": {},
     "output_type": "execute_result"
    }
   ],
   "source": [
    "dengue.columns = ['ID','Nome','Nome do Pai','Nome da Mae','Sexo','Data de Nascimento','Data da Dengue']\n",
    "#verificando\n",
    "dengue.head()"
   ]
  },
  {
   "cell_type": "markdown",
   "metadata": {},
   "source": [
    "# Analisando colunas dos dados de Ônibus"
   ]
  },
  {
   "cell_type": "code",
   "execution_count": 23,
   "metadata": {},
   "outputs": [
    {
     "data": {
      "text/plain": [
       "Nome\n",
       "AJOKVANDFO OLIVEIRA XOBRITHO    1\n",
       "ALEFFY GOMES SOUSA              1\n",
       "ALEXANDRA PEREIQA BIRES         1\n",
       "ALEXANDRE NASCIMENTO SILVA      1\n",
       "ANA                             2\n",
       "                               ..\n",
       "WESLEY SANTOS FILHO             1\n",
       "WESLEY SILVA SANTIAGO           1\n",
       "WHGNER S S                      1\n",
       "WILLIAN EDILANE LIMA            1\n",
       "WLADMIR IVANILDA SOUZA          1\n",
       "Length: 271, dtype: int64"
      ]
     },
     "execution_count": 23,
     "metadata": {},
     "output_type": "execute_result"
    }
   ],
   "source": [
    "#Nome\n",
    "agrupado = onibus.groupby(['Nome']).size()\n",
    "agrupado\n",
    "#271 de 278 valores repetidos ou vazios"
   ]
  },
  {
   "cell_type": "code",
   "execution_count": 24,
   "metadata": {},
   "outputs": [
    {
     "data": {
      "text/plain": [
       "Nome da Mae\n",
       "ADALBERTO BENEDITO LIMA     1\n",
       "ADRIANO                     1\n",
       "ADRIANO SILVA DOMINGOS      1\n",
       "ALBERTO                     1\n",
       "ALFLODIZIO SANTOS FARIAS    1\n",
       "                           ..\n",
       "WELINGTON I M               1\n",
       "WOACIR LIMA CASTRO          1\n",
       "YURI CARLOS SOUSA           1\n",
       "ZACARIAS ROSA ALBERTO       1\n",
       "ZUGUIDOCOSEA MARCVAVO       1\n",
       "Length: 263, dtype: int64"
      ]
     },
     "execution_count": 24,
     "metadata": {},
     "output_type": "execute_result"
    }
   ],
   "source": [
    "agrupado = onibus.groupby(['Nome da Mae']).size()\n",
    "agrupado\n",
    "#263 de 278 valores repetidos ou vazios"
   ]
  },
  {
   "cell_type": "code",
   "execution_count": 25,
   "metadata": {},
   "outputs": [
    {
     "data": {
      "text/plain": [
       "Nome do Pai\n",
       "ADRIANA MORENO CARMO     1\n",
       "ALAIDE SILVA MIRANDA     1\n",
       "ALBERTINA P A            1\n",
       "ALDEVAM E S              1\n",
       "ANA COSTA NASCIMENTO     1\n",
       "                        ..\n",
       "VIRGINIA GOMES SANTOS    1\n",
       "YNTVNIA SOUSA TELES      1\n",
       "ZAIRA SILGA GCNWALWES    1\n",
       "ZARIA LOHO SOUSA         1\n",
       "ZULMIRA L S              1\n",
       "Length: 256, dtype: int64"
      ]
     },
     "execution_count": 25,
     "metadata": {},
     "output_type": "execute_result"
    }
   ],
   "source": [
    "agrupado = onibus.groupby(['Nome do Pai']).size()\n",
    "agrupado\n",
    "#256 de 278 valores repetidos ou vazios"
   ]
  },
  {
   "cell_type": "code",
   "execution_count": 26,
   "metadata": {},
   "outputs": [
    {
     "data": {
      "text/plain": [
       "Sexo\n",
       "H    115\n",
       "M    163\n",
       "dtype: int64"
      ]
     },
     "execution_count": 26,
     "metadata": {},
     "output_type": "execute_result"
    }
   ],
   "source": [
    "agrupado = onibus.groupby(['Sexo']).size()\n",
    "agrupado"
   ]
  },
  {
   "cell_type": "markdown",
   "metadata": {},
   "source": [
    "# Padronizar os valores da coluna 'Sexo':"
   ]
  },
  {
   "cell_type": "code",
   "execution_count": 27,
   "metadata": {},
   "outputs": [
    {
     "data": {
      "text/html": [
       "<div>\n",
       "<style scoped>\n",
       "    .dataframe tbody tr th:only-of-type {\n",
       "        vertical-align: middle;\n",
       "    }\n",
       "\n",
       "    .dataframe tbody tr th {\n",
       "        vertical-align: top;\n",
       "    }\n",
       "\n",
       "    .dataframe thead th {\n",
       "        text-align: right;\n",
       "    }\n",
       "</style>\n",
       "<table border=\"1\" class=\"dataframe\">\n",
       "  <thead>\n",
       "    <tr style=\"text-align: right;\">\n",
       "      <th></th>\n",
       "      <th>ID</th>\n",
       "      <th>Nome</th>\n",
       "      <th>Nome do Pai</th>\n",
       "      <th>Nome da Mae</th>\n",
       "      <th>Sexo</th>\n",
       "      <th>Data de Nascimento</th>\n",
       "    </tr>\n",
       "  </thead>\n",
       "  <tbody>\n",
       "    <tr>\n",
       "      <th>0</th>\n",
       "      <td>0</td>\n",
       "      <td>FRANCISCA SALES LIMA</td>\n",
       "      <td>ELISEU CASTRO LIMA</td>\n",
       "      <td>SANDRA SALES CHAGAS</td>\n",
       "      <td>F</td>\n",
       "      <td>10-7-1997 00:00:00</td>\n",
       "    </tr>\n",
       "    <tr>\n",
       "      <th>1</th>\n",
       "      <td>1</td>\n",
       "      <td>DARIO MELO CELISMAN</td>\n",
       "      <td>JOAO SILVA CELISMAN</td>\n",
       "      <td>MARIA MELO MARLETE</td>\n",
       "      <td>M</td>\n",
       "      <td>24-3-2022 00:00:00</td>\n",
       "    </tr>\n",
       "    <tr>\n",
       "      <th>2</th>\n",
       "      <td>2</td>\n",
       "      <td>ANTONIA SILVA BARBOSA</td>\n",
       "      <td>RAIMUNDO</td>\n",
       "      <td>MARIA SILVA GIRAO</td>\n",
       "      <td>F</td>\n",
       "      <td>68-9-2009 00:00:00</td>\n",
       "    </tr>\n",
       "    <tr>\n",
       "      <th>3</th>\n",
       "      <td>3</td>\n",
       "      <td>SAMARA SANTOS MONTEIRO</td>\n",
       "      <td>JOSE</td>\n",
       "      <td>MARIA SANTOS LIDUINA</td>\n",
       "      <td>F</td>\n",
       "      <td>25-4-1999 00:00:00</td>\n",
       "    </tr>\n",
       "    <tr>\n",
       "      <th>4</th>\n",
       "      <td>4</td>\n",
       "      <td>JESSICA</td>\n",
       "      <td>FRANCISCO ALMEIDA SOUSA</td>\n",
       "      <td>RAIMUNDA SOCORRO HERMINIO</td>\n",
       "      <td>F</td>\n",
       "      <td>18-11-1998 00:00:00</td>\n",
       "    </tr>\n",
       "  </tbody>\n",
       "</table>\n",
       "</div>"
      ],
      "text/plain": [
       "   ID                    Nome              Nome do Pai  \\\n",
       "0   0    FRANCISCA SALES LIMA       ELISEU CASTRO LIMA   \n",
       "1   1     DARIO MELO CELISMAN      JOAO SILVA CELISMAN   \n",
       "2   2   ANTONIA SILVA BARBOSA                 RAIMUNDO   \n",
       "3   3  SAMARA SANTOS MONTEIRO                     JOSE   \n",
       "4   4                 JESSICA  FRANCISCO ALMEIDA SOUSA   \n",
       "\n",
       "                 Nome da Mae Sexo   Data de Nascimento  \n",
       "0        SANDRA SALES CHAGAS    F   10-7-1997 00:00:00  \n",
       "1         MARIA MELO MARLETE    M   24-3-2022 00:00:00  \n",
       "2          MARIA SILVA GIRAO    F   68-9-2009 00:00:00  \n",
       "3       MARIA SANTOS LIDUINA    F   25-4-1999 00:00:00  \n",
       "4  RAIMUNDA SOCORRO HERMINIO    F  18-11-1998 00:00:00  "
      ]
     },
     "execution_count": 27,
     "metadata": {},
     "output_type": "execute_result"
    }
   ],
   "source": [
    "alunos.loc[alunos['Sexo'] == 'f', 'Sexo'] = \"F\"\n",
    "alunos.loc[alunos['Sexo'] == 'm', 'Sexo'] = \"M\"\n",
    "alunos.head()"
   ]
  },
  {
   "cell_type": "code",
   "execution_count": 28,
   "metadata": {},
   "outputs": [
    {
     "data": {
      "text/html": [
       "<div>\n",
       "<style scoped>\n",
       "    .dataframe tbody tr th:only-of-type {\n",
       "        vertical-align: middle;\n",
       "    }\n",
       "\n",
       "    .dataframe tbody tr th {\n",
       "        vertical-align: top;\n",
       "    }\n",
       "\n",
       "    .dataframe thead th {\n",
       "        text-align: right;\n",
       "    }\n",
       "</style>\n",
       "<table border=\"1\" class=\"dataframe\">\n",
       "  <thead>\n",
       "    <tr style=\"text-align: right;\">\n",
       "      <th></th>\n",
       "      <th>ID</th>\n",
       "      <th>Nome</th>\n",
       "      <th>Nome da Mae</th>\n",
       "      <th>Nome do Pai</th>\n",
       "      <th>Sexo</th>\n",
       "      <th>Data de Nascimento</th>\n",
       "      <th>Onibus</th>\n",
       "    </tr>\n",
       "  </thead>\n",
       "  <tbody>\n",
       "    <tr>\n",
       "      <th>0</th>\n",
       "      <td>0</td>\n",
       "      <td>LUCAS</td>\n",
       "      <td>EDIBERTO FARIAS MATOS</td>\n",
       "      <td>MFRIA BARAOSFEDREUFA</td>\n",
       "      <td>M</td>\n",
       "      <td>271988</td>\n",
       "      <td>893, 529, 744, 718, 709</td>\n",
       "    </tr>\n",
       "    <tr>\n",
       "      <th>1</th>\n",
       "      <td>1</td>\n",
       "      <td>PIULO Q F</td>\n",
       "      <td>ANTONIO</td>\n",
       "      <td>MARIA QUEIROZ SANTOS</td>\n",
       "      <td>F</td>\n",
       "      <td>161956</td>\n",
       "      <td>912, 223, 689, 333, 754, 537, 779, 203, 569</td>\n",
       "    </tr>\n",
       "    <tr>\n",
       "      <th>2</th>\n",
       "      <td>2</td>\n",
       "      <td>FRANCISCO S S</td>\n",
       "      <td>JEOVA OLIVEIRA SILVA</td>\n",
       "      <td>VERANEIDE SANTOS SILVA</td>\n",
       "      <td>M</td>\n",
       "      <td>2471938</td>\n",
       "      <td>397, 213, 767</td>\n",
       "    </tr>\n",
       "    <tr>\n",
       "      <th>3</th>\n",
       "      <td>3</td>\n",
       "      <td>GERANIO SILVA SOUZA</td>\n",
       "      <td>GONZAGA</td>\n",
       "      <td>ELIZABETH SILVA VALE</td>\n",
       "      <td>M</td>\n",
       "      <td>1101993</td>\n",
       "      <td>574, 583, 726, 184</td>\n",
       "    </tr>\n",
       "    <tr>\n",
       "      <th>4</th>\n",
       "      <td>4</td>\n",
       "      <td>VALBERLANIA COSTA FREITAS</td>\n",
       "      <td>OSMAR NASCIMENTO FREITAS</td>\n",
       "      <td>ANA COSTA NASCIMENTO</td>\n",
       "      <td>M</td>\n",
       "      <td>101067</td>\n",
       "      <td>010, 152</td>\n",
       "    </tr>\n",
       "  </tbody>\n",
       "</table>\n",
       "</div>"
      ],
      "text/plain": [
       "   ID                       Nome               Nome da Mae  \\\n",
       "0   0                      LUCAS     EDIBERTO FARIAS MATOS   \n",
       "1   1                  PIULO Q F                   ANTONIO   \n",
       "2   2              FRANCISCO S S      JEOVA OLIVEIRA SILVA   \n",
       "3   3        GERANIO SILVA SOUZA                   GONZAGA   \n",
       "4   4  VALBERLANIA COSTA FREITAS  OSMAR NASCIMENTO FREITAS   \n",
       "\n",
       "              Nome do Pai Sexo  Data de Nascimento  \\\n",
       "0    MFRIA BARAOSFEDREUFA    M              271988   \n",
       "1    MARIA QUEIROZ SANTOS    F              161956   \n",
       "2  VERANEIDE SANTOS SILVA    M             2471938   \n",
       "3    ELIZABETH SILVA VALE    M             1101993   \n",
       "4    ANA COSTA NASCIMENTO    M              101067   \n",
       "\n",
       "                                        Onibus  \n",
       "0                      893, 529, 744, 718, 709  \n",
       "1  912, 223, 689, 333, 754, 537, 779, 203, 569  \n",
       "2                                397, 213, 767  \n",
       "3                           574, 583, 726, 184  \n",
       "4                                     010, 152  "
      ]
     },
     "execution_count": 28,
     "metadata": {},
     "output_type": "execute_result"
    }
   ],
   "source": [
    "onibus.loc[onibus['Sexo'] == 'H', 'Sexo'] = \"M\"\n",
    "onibus.loc[alunos['Sexo'] == 'M', 'Sexo'] = \"F\"\n",
    "onibus.head()"
   ]
  },
  {
   "cell_type": "markdown",
   "metadata": {},
   "source": [
    "# Realizando a combinação dos indivídos em diferentes bancos de dados seguindo orientações:\n",
    "\n",
    "A prefeitura por meio da coleta de dados de seus sistemas, possui alguns conjuntos de dados e gostaria de explorá-los para apoiar as tomadas de decisão do prefeito e seus secretários. A base de dados da prefeitura conta com dados sobre as áreas da Saúde (dados de cidadãos que tiverem dengue), Mobilidade (dados de cidadãos que andam de ônibus) e Educação (dados de cidadãos matriculados em escolas), essas informações estão em três  arquivos Excel (.csv). Como cientista de dados você deverá fazer:\n"
   ]
  },
  {
   "cell_type": "markdown",
   "metadata": {},
   "source": [
    "#  1) Relatório Educação: Informar nome, data de nascimento e id dos cidadãos de XPTO que frequentaram a escola, menos os cidadãos que tiveram dengue."
   ]
  },
  {
   "cell_type": "code",
   "execution_count": 98,
   "metadata": {},
   "outputs": [
    {
     "data": {
      "text/html": [
       "<div>\n",
       "<style scoped>\n",
       "    .dataframe tbody tr th:only-of-type {\n",
       "        vertical-align: middle;\n",
       "    }\n",
       "\n",
       "    .dataframe tbody tr th {\n",
       "        vertical-align: top;\n",
       "    }\n",
       "\n",
       "    .dataframe thead th {\n",
       "        text-align: right;\n",
       "    }\n",
       "</style>\n",
       "<table border=\"1\" class=\"dataframe\">\n",
       "  <thead>\n",
       "    <tr style=\"text-align: right;\">\n",
       "      <th></th>\n",
       "      <th>ID_x</th>\n",
       "      <th>Nome</th>\n",
       "      <th>Nome do Pai_x</th>\n",
       "      <th>Nome da Mae</th>\n",
       "      <th>Sexo_x</th>\n",
       "      <th>Data de Nascimento_x</th>\n",
       "      <th>ID_y</th>\n",
       "      <th>Nome do Pai_y</th>\n",
       "      <th>Sexo_y</th>\n",
       "      <th>Data de Nascimento_y</th>\n",
       "      <th>Data da Dengue</th>\n",
       "    </tr>\n",
       "  </thead>\n",
       "  <tbody>\n",
       "    <tr>\n",
       "      <th>0</th>\n",
       "      <td>11</td>\n",
       "      <td>LEONARDA SILVA BARBOSA</td>\n",
       "      <td>FRAOCCSCO FERREIJA BARBOSV</td>\n",
       "      <td>RAIMARA SILVA ARAUJO</td>\n",
       "      <td>F</td>\n",
       "      <td>16-8-2007 00:00:00</td>\n",
       "      <td>24</td>\n",
       "      <td>FRANCISCE FERREIRA BARBZSA</td>\n",
       "      <td>F</td>\n",
       "      <td>16/8/2077</td>\n",
       "      <td>27/9/2016</td>\n",
       "    </tr>\n",
       "    <tr>\n",
       "      <th>1</th>\n",
       "      <td>26</td>\n",
       "      <td>FRANCISCA AURILANE HOLANDA</td>\n",
       "      <td>ALONCO ARAUJO HOLANDA</td>\n",
       "      <td>MARIA AURILANE ARAUJO</td>\n",
       "      <td>F</td>\n",
       "      <td>6-2-2314 00:00:00</td>\n",
       "      <td>20</td>\n",
       "      <td>ALONCO A H</td>\n",
       "      <td>F</td>\n",
       "      <td>6/2/2014</td>\n",
       "      <td>13/2/2079</td>\n",
       "    </tr>\n",
       "    <tr>\n",
       "      <th>2</th>\n",
       "      <td>36</td>\n",
       "      <td>WALTER PERREIRA FERREIRA</td>\n",
       "      <td>ANTONIO OLIVEIRA FERREIRA</td>\n",
       "      <td>ANTONIA PERREIRA CHAVES</td>\n",
       "      <td>M</td>\n",
       "      <td>30-3-2007 00:00:00</td>\n",
       "      <td>183</td>\n",
       "      <td>ANTONIO</td>\n",
       "      <td>M</td>\n",
       "      <td>35/7/2025</td>\n",
       "      <td>9/5/2046</td>\n",
       "    </tr>\n",
       "    <tr>\n",
       "      <th>3</th>\n",
       "      <td>48</td>\n",
       "      <td>MARIA LOUREIRO TEIXEIRA</td>\n",
       "      <td>FRANCISCO V T</td>\n",
       "      <td>LUZIA LOUREIRO ARAUJO</td>\n",
       "      <td>F</td>\n",
       "      <td>21-3-9397 00:00:00</td>\n",
       "      <td>128</td>\n",
       "      <td>FRANCISCO V T</td>\n",
       "      <td>F</td>\n",
       "      <td>24/3/2997</td>\n",
       "      <td>13/4/2008</td>\n",
       "    </tr>\n",
       "    <tr>\n",
       "      <th>4</th>\n",
       "      <td>51</td>\n",
       "      <td>JOSIANY IVONILDE SOUSA</td>\n",
       "      <td>RAIMUNDO</td>\n",
       "      <td>ELISAGELA IVONILDE NAVEGANTES</td>\n",
       "      <td>M</td>\n",
       "      <td>28-11-1695 00:00:00</td>\n",
       "      <td>148</td>\n",
       "      <td>RAIMUNDO</td>\n",
       "      <td>M</td>\n",
       "      <td>22/21/6981</td>\n",
       "      <td>14/16/2005</td>\n",
       "    </tr>\n",
       "    <tr>\n",
       "      <th>5</th>\n",
       "      <td>69</td>\n",
       "      <td>ANAIDE SANTOS SILVA</td>\n",
       "      <td>CICERO FERREIRF SILVA</td>\n",
       "      <td>REGINA SANTOS LOPES</td>\n",
       "      <td>F</td>\n",
       "      <td>4-2-4097 00:00:00</td>\n",
       "      <td>57</td>\n",
       "      <td>CICERO FERREIRA SILVA</td>\n",
       "      <td>F</td>\n",
       "      <td>7/0/2108</td>\n",
       "      <td>22/8/2413</td>\n",
       "    </tr>\n",
       "    <tr>\n",
       "      <th>6</th>\n",
       "      <td>148</td>\n",
       "      <td>ALINE ARAUJO GILBERTO</td>\n",
       "      <td>RAIMUNDO CARLOS GILBERTO</td>\n",
       "      <td>RAIMUNDA ARAUJO LAURIANO</td>\n",
       "      <td>F</td>\n",
       "      <td>00-0-1997 00:00:00</td>\n",
       "      <td>186</td>\n",
       "      <td>RAIMUNDO C G</td>\n",
       "      <td>F</td>\n",
       "      <td>20/5/1991</td>\n",
       "      <td>3/11/8001</td>\n",
       "    </tr>\n",
       "  </tbody>\n",
       "</table>\n",
       "</div>"
      ],
      "text/plain": [
       "   ID_x                        Nome               Nome do Pai_x  \\\n",
       "0    11      LEONARDA SILVA BARBOSA  FRAOCCSCO FERREIJA BARBOSV   \n",
       "1    26  FRANCISCA AURILANE HOLANDA       ALONCO ARAUJO HOLANDA   \n",
       "2    36    WALTER PERREIRA FERREIRA   ANTONIO OLIVEIRA FERREIRA   \n",
       "3    48     MARIA LOUREIRO TEIXEIRA               FRANCISCO V T   \n",
       "4    51      JOSIANY IVONILDE SOUSA                    RAIMUNDO   \n",
       "5    69         ANAIDE SANTOS SILVA       CICERO FERREIRF SILVA   \n",
       "6   148       ALINE ARAUJO GILBERTO    RAIMUNDO CARLOS GILBERTO   \n",
       "\n",
       "                     Nome da Mae Sexo_x Data de Nascimento_x  ID_y  \\\n",
       "0           RAIMARA SILVA ARAUJO      F   16-8-2007 00:00:00    24   \n",
       "1          MARIA AURILANE ARAUJO      F    6-2-2314 00:00:00    20   \n",
       "2        ANTONIA PERREIRA CHAVES      M   30-3-2007 00:00:00   183   \n",
       "3          LUZIA LOUREIRO ARAUJO      F   21-3-9397 00:00:00   128   \n",
       "4  ELISAGELA IVONILDE NAVEGANTES      M  28-11-1695 00:00:00   148   \n",
       "5            REGINA SANTOS LOPES      F    4-2-4097 00:00:00    57   \n",
       "6       RAIMUNDA ARAUJO LAURIANO      F   00-0-1997 00:00:00   186   \n",
       "\n",
       "                Nome do Pai_y Sexo_y Data de Nascimento_y Data da Dengue  \n",
       "0  FRANCISCE FERREIRA BARBZSA      F            16/8/2077      27/9/2016  \n",
       "1                  ALONCO A H      F             6/2/2014      13/2/2079  \n",
       "2                     ANTONIO      M            35/7/2025       9/5/2046  \n",
       "3               FRANCISCO V T      F            24/3/2997      13/4/2008  \n",
       "4                    RAIMUNDO      M           22/21/6981     14/16/2005  \n",
       "5       CICERO FERREIRA SILVA      F             7/0/2108      22/8/2413  \n",
       "6                RAIMUNDO C G      F            20/5/1991      3/11/8001  "
      ]
     },
     "execution_count": 98,
     "metadata": {},
     "output_type": "execute_result"
    }
   ],
   "source": [
    "alunos_com_dengue = pd.merge(alunos,dengue, on=['Nome','Nome da Mae'], how='inner')\n",
    "alunos_com_dengue"
   ]
  },
  {
   "cell_type": "code",
   "execution_count": 126,
   "metadata": {},
   "outputs": [
    {
     "data": {
      "text/html": [
       "<div>\n",
       "<style scoped>\n",
       "    .dataframe tbody tr th:only-of-type {\n",
       "        vertical-align: middle;\n",
       "    }\n",
       "\n",
       "    .dataframe tbody tr th {\n",
       "        vertical-align: top;\n",
       "    }\n",
       "\n",
       "    .dataframe thead th {\n",
       "        text-align: right;\n",
       "    }\n",
       "</style>\n",
       "<table border=\"1\" class=\"dataframe\">\n",
       "  <thead>\n",
       "    <tr style=\"text-align: right;\">\n",
       "      <th></th>\n",
       "      <th>ID</th>\n",
       "      <th>Nome</th>\n",
       "      <th>Nome do Pai</th>\n",
       "      <th>Nome da Mae</th>\n",
       "      <th>Sexo</th>\n",
       "      <th>Data de Nascimento</th>\n",
       "    </tr>\n",
       "  </thead>\n",
       "  <tbody>\n",
       "    <tr>\n",
       "      <th>0</th>\n",
       "      <td>0</td>\n",
       "      <td>FRANCISCA SALES LIMA</td>\n",
       "      <td>ELISEU CASTRO LIMA</td>\n",
       "      <td>SANDRA SALES CHAGAS</td>\n",
       "      <td>F</td>\n",
       "      <td>10-7-1997 00:00:00</td>\n",
       "    </tr>\n",
       "    <tr>\n",
       "      <th>1</th>\n",
       "      <td>1</td>\n",
       "      <td>DARIO MELO CELISMAN</td>\n",
       "      <td>JOAO SILVA CELISMAN</td>\n",
       "      <td>MARIA MELO MARLETE</td>\n",
       "      <td>M</td>\n",
       "      <td>24-3-2022 00:00:00</td>\n",
       "    </tr>\n",
       "    <tr>\n",
       "      <th>2</th>\n",
       "      <td>2</td>\n",
       "      <td>ANTONIA SILVA BARBOSA</td>\n",
       "      <td>RAIMUNDO</td>\n",
       "      <td>MARIA SILVA GIRAO</td>\n",
       "      <td>F</td>\n",
       "      <td>68-9-2009 00:00:00</td>\n",
       "    </tr>\n",
       "    <tr>\n",
       "      <th>3</th>\n",
       "      <td>3</td>\n",
       "      <td>SAMARA SANTOS MONTEIRO</td>\n",
       "      <td>JOSE</td>\n",
       "      <td>MARIA SANTOS LIDUINA</td>\n",
       "      <td>F</td>\n",
       "      <td>25-4-1999 00:00:00</td>\n",
       "    </tr>\n",
       "    <tr>\n",
       "      <th>4</th>\n",
       "      <td>4</td>\n",
       "      <td>JESSICA</td>\n",
       "      <td>FRANCISCO ALMEIDA SOUSA</td>\n",
       "      <td>RAIMUNDA SOCORRO HERMINIO</td>\n",
       "      <td>F</td>\n",
       "      <td>18-11-1998 00:00:00</td>\n",
       "    </tr>\n",
       "    <tr>\n",
       "      <th>...</th>\n",
       "      <td>...</td>\n",
       "      <td>...</td>\n",
       "      <td>...</td>\n",
       "      <td>...</td>\n",
       "      <td>...</td>\n",
       "      <td>...</td>\n",
       "    </tr>\n",
       "    <tr>\n",
       "      <th>284</th>\n",
       "      <td>284</td>\n",
       "      <td>MARIA L R</td>\n",
       "      <td>FRANCISCO NASCIMENTO ROBERTO</td>\n",
       "      <td>ELIZETH LUCIA SILVA</td>\n",
       "      <td>F</td>\n",
       "      <td>9-0-2008 00:00:00</td>\n",
       "    </tr>\n",
       "    <tr>\n",
       "      <th>285</th>\n",
       "      <td>285</td>\n",
       "      <td>ANGELA SILVA SOUSA</td>\n",
       "      <td>RAIMUNDO TEIXEIRA SOUSA</td>\n",
       "      <td>ALEZABETA</td>\n",
       "      <td>F</td>\n",
       "      <td>15-2-2007 00:00:00</td>\n",
       "    </tr>\n",
       "    <tr>\n",
       "      <th>286</th>\n",
       "      <td>286</td>\n",
       "      <td>BRUNA GRACAS OLIVEIRA</td>\n",
       "      <td>FRANCISCO RODUIGUES OLIGGIRA</td>\n",
       "      <td>MARIA GRACAS DLVES</td>\n",
       "      <td>F</td>\n",
       "      <td>1-6-5000 00:00:00</td>\n",
       "    </tr>\n",
       "    <tr>\n",
       "      <th>287</th>\n",
       "      <td>287</td>\n",
       "      <td>ANTONIO RODRIGUES CASTRO</td>\n",
       "      <td>MOACIR LIMA CASTRO</td>\n",
       "      <td>MARIA RODRIGUES FELIX</td>\n",
       "      <td>M</td>\n",
       "      <td>8-0-6012 00:00:00</td>\n",
       "    </tr>\n",
       "    <tr>\n",
       "      <th>288</th>\n",
       "      <td>288</td>\n",
       "      <td>ANA RAMOS FELIPE</td>\n",
       "      <td>RAIMUNDO GOMES FELIPE</td>\n",
       "      <td>ANA RAMOS ROCHA</td>\n",
       "      <td>F</td>\n",
       "      <td>17-8-6007 00:00:00</td>\n",
       "    </tr>\n",
       "  </tbody>\n",
       "</table>\n",
       "<p>282 rows × 6 columns</p>\n",
       "</div>"
      ],
      "text/plain": [
       "      ID                      Nome                   Nome do Pai  \\\n",
       "0      0      FRANCISCA SALES LIMA            ELISEU CASTRO LIMA   \n",
       "1      1       DARIO MELO CELISMAN           JOAO SILVA CELISMAN   \n",
       "2      2     ANTONIA SILVA BARBOSA                      RAIMUNDO   \n",
       "3      3    SAMARA SANTOS MONTEIRO                          JOSE   \n",
       "4      4                   JESSICA       FRANCISCO ALMEIDA SOUSA   \n",
       "..   ...                       ...                           ...   \n",
       "284  284                 MARIA L R  FRANCISCO NASCIMENTO ROBERTO   \n",
       "285  285        ANGELA SILVA SOUSA       RAIMUNDO TEIXEIRA SOUSA   \n",
       "286  286     BRUNA GRACAS OLIVEIRA  FRANCISCO RODUIGUES OLIGGIRA   \n",
       "287  287  ANTONIO RODRIGUES CASTRO            MOACIR LIMA CASTRO   \n",
       "288  288          ANA RAMOS FELIPE         RAIMUNDO GOMES FELIPE   \n",
       "\n",
       "                   Nome da Mae Sexo   Data de Nascimento  \n",
       "0          SANDRA SALES CHAGAS    F   10-7-1997 00:00:00  \n",
       "1           MARIA MELO MARLETE    M   24-3-2022 00:00:00  \n",
       "2            MARIA SILVA GIRAO    F   68-9-2009 00:00:00  \n",
       "3         MARIA SANTOS LIDUINA    F   25-4-1999 00:00:00  \n",
       "4    RAIMUNDA SOCORRO HERMINIO    F  18-11-1998 00:00:00  \n",
       "..                         ...  ...                  ...  \n",
       "284        ELIZETH LUCIA SILVA    F    9-0-2008 00:00:00  \n",
       "285                  ALEZABETA    F   15-2-2007 00:00:00  \n",
       "286         MARIA GRACAS DLVES    F    1-6-5000 00:00:00  \n",
       "287      MARIA RODRIGUES FELIX    M    8-0-6012 00:00:00  \n",
       "288            ANA RAMOS ROCHA    F   17-8-6007 00:00:00  \n",
       "\n",
       "[282 rows x 6 columns]"
      ]
     },
     "execution_count": 126,
     "metadata": {},
     "output_type": "execute_result"
    }
   ],
   "source": [
    "alunos_sem_dengue = alunos[~alunos['Nome da Mae'].isin(combina['Nome da Mae'])]\n",
    "alunos_sem_dengue"
   ]
  },
  {
   "cell_type": "code",
   "execution_count": 128,
   "metadata": {},
   "outputs": [],
   "source": [
    "alunos_com_dengue.to_csv('alunos_com_dengue.csv', index=False)\n",
    "alunos_sem_dengue.to_csv('alunos_sem_dengue.csv', index=False)"
   ]
  },
  {
   "cell_type": "code",
   "execution_count": 140,
   "metadata": {},
   "outputs": [
    {
     "name": "stdout",
     "output_type": "stream",
     "text": [
      "Total de alunos 281 Alunos com dengue 7 Alunos sem dengue 274 Contraíram dengue 207\n"
     ]
    }
   ],
   "source": [
    "print('Total de alunos ' + str(len(alunos.groupby(['Nome']).size()))\n",
    "      + \" Alunos com dengue \" + str(len(alunos_com_dengue.groupby(['Nome']).size()))\n",
    "      + \" Alunos sem dengue \" +  str(len(alunos_sem_dengue.groupby(['Nome']).size()))\n",
    "      + \" Contraíram dengue \" +  str(len(dengue.groupby(['Nome']).size())) ## dado importante\n",
    "     )"
   ]
  },
  {
   "cell_type": "code",
   "execution_count": 134,
   "metadata": {},
   "outputs": [
    {
     "data": {
      "image/png": "[encoded data removed]",
      "text/plain": [
       "<Figure size 432x288 with 1 Axes>"
      ]
     },
     "metadata": {},
     "output_type": "display_data"
    }
   ],
   "source": [
    "v = vplt.venn2(subsets={'10':274,'01':205,'11':7}, set_labels = ('Alunos', 'Dengue'))\n",
    "plt.show()"
   ]
  }
 ],
 "metadata": {
  "kernelspec": {
   "display_name": "Python 3",
   "language": "python",
   "name": "python3"
  },
  "language_info": {
   "codemirror_mode": {
    "name": "ipython",
    "version": 3
   },
   "file_extension": ".py",
   "mimetype": "text/x-python",
   "name": "python",
   "nbconvert_exporter": "python",
   "pygments_lexer": "ipython3",
   "version": "3.8.5"
  }
 },
 "nbformat": 4,
 "nbformat_minor": 4
}
